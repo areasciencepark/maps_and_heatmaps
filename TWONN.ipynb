{
 "cells": [
  {
   "cell_type": "markdown",
   "metadata": {},
   "source": [
    "TwoNN density estimator"
   ]
  },
  {
   "cell_type": "code",
   "execution_count": 3,
   "metadata": {},
   "outputs": [],
   "source": [
    "import pandas as pd\n",
    "import numpy as np\n",
    "import matplotlib.pyplot as plt\n",
    "\n",
    "from scipy.spatial import distance_matrix\n",
    "\n"
   ]
  },
  {
   "cell_type": "code",
   "execution_count": 4,
   "metadata": {},
   "outputs": [
    {
     "data": {
      "text/plain": [
       "<matplotlib.collections.PathCollection at 0x277be8d34f0>"
      ]
     },
     "execution_count": 4,
     "metadata": {},
     "output_type": "execute_result"
    },
    {
     "data": {
      "image/png": "[encoded data removed]",
      "text/plain": [
       "<Figure size 432x288 with 1 Axes>"
      ]
     },
     "metadata": {
      "needs_background": "light"
     },
     "output_type": "display_data"
    }
   ],
   "source": [
    "data = pd.read_csv(r'./data/summary.csv')\n",
    "data = data[ data.x > 12.3]\n",
    "data = data[ data.x < 14.0]\n",
    "data = data[ data.y > 45.6]\n",
    "data = data[ data.y < 46.7]\n",
    "X = np.array(data[ [\"x\", \"y\"] ])\n",
    "X = (X - X.mean(axis=0)) / X.std(axis = 0)\n",
    "plt.scatter(X[:,0], X[:,1], s = 1, color = \"black\")"
   ]
  },
  {
   "cell_type": "code",
   "execution_count": null,
   "metadata": {},
   "outputs": [],
   "source": []
  },
  {
   "cell_type": "code",
   "execution_count": 29,
   "metadata": {},
   "outputs": [],
   "source": [
    "## https://github.com/mariaderrico/DPA  ... /Pipeline/twoNN\n",
    "## TODO rivedere\n",
    "\n",
    "distances = distance_matrix(X,X)\n",
    "N = distances.shape[0]\n",
    "d_mle = 0.\n",
    "log_nu=[]\n",
    "for i in range(N):\n",
    "    d1 = distances[i][1]\n",
    "    d2 = distances[i][2]\n",
    "    if d1 * d2 > 0:\n",
    "        log_nu_i = np.log(d2)-np.log(d1)\n",
    "        log_nu.append(log_nu_i)\n",
    "        d_mle = d_mle + log_nu_i\n",
    "    else:\n",
    "        log_nu.append(0.)\n",
    "id_mle = int(round(N/d_mle))\n",
    "\n",
    "x = sorted(log_nu)\n",
    "y = [-log(1.-(i)/N) for i in range (len(x))]\n",
    "a,_,_,_ = np.linalg.lstsq(np.array(x)[:,np.newaxis], np.array(x), rcond=None)"
   ]
  },
  {
   "cell_type": "code",
   "execution_count": 28,
   "metadata": {},
   "outputs": [
    {
     "data": {
      "text/plain": [
       "1.0000000000000002"
      ]
     },
     "execution_count": 28,
     "metadata": {},
     "output_type": "execute_result"
    }
   ],
   "source": [
    "a[0]"
   ]
  },
  {
   "cell_type": "markdown",
   "metadata": {},
   "source": [
    "# Density Peaks"
   ]
  },
  {
   "cell_type": "code",
   "execution_count": 30,
   "metadata": {},
   "outputs": [],
   "source": [
    "from DP import *"
   ]
  },
  {
   "cell_type": "code",
   "execution_count": 34,
   "metadata": {},
   "outputs": [
    {
     "ename": "NameError",
     "evalue": "name 'DensityPeakAdvanced' is not defined",
     "output_type": "error",
     "traceback": [
      "\u001b[1;31m---------------------------------------------------------------------------\u001b[0m",
      "\u001b[1;31mNameError\u001b[0m                                 Traceback (most recent call last)",
      "\u001b[1;32m<ipython-input-34-fb2dfb8087b3>\u001b[0m in \u001b[0;36m<module>\u001b[1;34m\u001b[0m\n\u001b[1;32m----> 1\u001b[1;33m \u001b[0mest\u001b[0m \u001b[1;33m=\u001b[0m \u001b[0mDensityPeakAdvanced\u001b[0m\u001b[1;33m(\u001b[0m\u001b[0mZ\u001b[0m\u001b[1;33m=\u001b[0m\u001b[1;36m1.5\u001b[0m\u001b[1;33m)\u001b[0m\u001b[1;33m\u001b[0m\u001b[1;33m\u001b[0m\u001b[0m\n\u001b[0m",
      "\u001b[1;31mNameError\u001b[0m: name 'DensityPeakAdvanced' is not defined"
     ]
    }
   ],
   "source": [
    "est = DensityPeakAdvanced(Z=1.5)"
   ]
  }
 ],
 "metadata": {
  "interpreter": {
   "hash": "46c56b00a886f01d69e776668ca12acc0de9f7c8f388e5060811cd7865d8f9b3"
  },
  "kernelspec": {
   "display_name": "Python 3.9.4 64-bit",
   "language": "python",
   "name": "python3"
  },
  "language_info": {
   "codemirror_mode": {
    "name": "ipython",
    "version": 3
   },
   "file_extension": ".py",
   "mimetype": "text/x-python",
   "name": "python",
   "nbconvert_exporter": "python",
   "pygments_lexer": "ipython3",
   "version": "3.9.4"
  },
  "orig_nbformat": 4
 },
 "nbformat": 4,
 "nbformat_minor": 2
}
