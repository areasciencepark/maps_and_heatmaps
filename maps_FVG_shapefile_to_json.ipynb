{
 "cells": [
  {
   "cell_type": "markdown",
   "metadata": {},
   "source": [
    "# Maps in shapefile and JSON format\n",
    "\n",
    "This notebook explores the potential of \"shapefile\" maps based on the \"polygonfile\" library\n",
    "\n",
    "Contents:\n",
    "1. Basic map information loaded from official sources (e.g. Eurostat) in shapefile format. This procedure may load much more data than is actually needed (e.g. a country may be composed by a number of small shapes that are not relevant for the application; we may be interested in a small number of coutntries...)\n",
    "\n",
    "2. A basic code to plot a map controlling border and fill color (from SHAPEFILE)\n",
    "\n",
    "3. Filter the dataset (e.g. only some selected countries) and save in JSON format for further use \n",
    "\n",
    "4. An efficient function to plot a map controlling border and fill color  (from JSON)\n",
    "\n",
    " \n",
    "\n"
   ]
  },
  {
   "cell_type": "code",
   "execution_count": 1,
   "metadata": {},
   "outputs": [],
   "source": [
    "import numpy as np\n",
    "import pandas as pd\n",
    "import matplotlib.pyplot as plt\n"
   ]
  },
  {
   "cell_type": "markdown",
   "metadata": {},
   "source": [
    "# Load data on italian minicipalities and regions"
   ]
  },
  {
   "cell_type": "code",
   "execution_count": null,
   "metadata": {},
   "outputs": [],
   "source": [
    "df = pd.read_csv('./data/Elenco-comuni-italiani.csv', sep=\";\", dtype='str')\n",
    "cols_to_use = ['Codice Regione', 'Codice Comune formato alfanumerico' ,'Denominazione in italiano']\n",
    "df = df[ cols_to_use ]\n",
    "df.columns = ['cod_regione', 'cod_comune', 'nome_comune']\n",
    "df = df[ df['cod_regione']== '06' ] # regione FVG\n",
    "selected_codes = df.cod_comune.to_list()\n",
    "\n",
    "#df"
   ]
  },
  {
   "cell_type": "code",
   "execution_count": null,
   "metadata": {},
   "outputs": [],
   "source": [
    "points = pd.read_csv('./data/comuni_lat_long.csv', sep=\";\")\n",
    "x = points.lng\n",
    "y = points.lat\n",
    "plt.scatter(x=x, y=y,s=2, c=\"black\", marker=\".\")\n",
    "     "
   ]
  },
  {
   "cell_type": "code",
   "execution_count": null,
   "metadata": {},
   "outputs": [],
   "source": [
    "nbins=10\n",
    "radius= (x.max()-x.min())\n",
    "print(radius)\n",
    "points = np.array(list(zip(x,y)))\n",
    "points = points[:10]\n",
    "points"
   ]
  },
  {
   "cell_type": "code",
   "execution_count": null,
   "metadata": {},
   "outputs": [
    {
     "ename": "NameError",
     "evalue": "name 'points' is not defined",
     "output_type": "error",
     "traceback": [
      "\u001b[1;31m---------------------------------------------------------------------------\u001b[0m",
      "\u001b[1;31mNameError\u001b[0m                                 Traceback (most recent call last)",
      "\u001b[1;32m<ipython-input-1-3418e3cbd6ea>\u001b[0m in \u001b[0;36m<module>\u001b[1;34m\u001b[0m\n\u001b[0;32m      1\u001b[0m \u001b[1;32mimport\u001b[0m \u001b[0mscipy\u001b[0m\u001b[1;33m.\u001b[0m\u001b[0mspatial\u001b[0m \u001b[1;32mas\u001b[0m \u001b[0mspatial\u001b[0m\u001b[1;33m\u001b[0m\u001b[1;33m\u001b[0m\u001b[0m\n\u001b[1;32m----> 2\u001b[1;33m \u001b[0mpoints\u001b[0m \u001b[1;33m=\u001b[0m \u001b[0mpoints\u001b[0m\u001b[1;33m[\u001b[0m\u001b[1;33m:\u001b[0m\u001b[1;36m10\u001b[0m\u001b[1;33m]\u001b[0m\u001b[1;33m\u001b[0m\u001b[1;33m\u001b[0m\u001b[0m\n\u001b[0m\u001b[0;32m      3\u001b[0m \u001b[0mpoint_tree\u001b[0m \u001b[1;33m=\u001b[0m \u001b[0mspatial\u001b[0m\u001b[1;33m.\u001b[0m\u001b[0mcKDTree\u001b[0m\u001b[1;33m(\u001b[0m\u001b[0mpoints\u001b[0m\u001b[1;33m)\u001b[0m\u001b[1;33m\u001b[0m\u001b[1;33m\u001b[0m\u001b[0m\n\u001b[0;32m      4\u001b[0m \u001b[1;31m# This finds the index of all points within  radius\u001b[0m\u001b[1;33m\u001b[0m\u001b[1;33m\u001b[0m\u001b[1;33m\u001b[0m\u001b[0m\n\u001b[0;32m      5\u001b[0m \u001b[0mradius\u001b[0m\u001b[1;33m=\u001b[0m\u001b[1;36m100\u001b[0m\u001b[1;33m\u001b[0m\u001b[1;33m\u001b[0m\u001b[0m\n",
      "\u001b[1;31mNameError\u001b[0m: name 'points' is not defined"
     ]
    }
   ],
   "source": [
    "import scipy.spatial as spatial\n",
    "\n",
    "point_tree = spatial.cKDTree(points)\n",
    "# This finds the index of all points within  radius\n",
    "radius=100\n",
    "idx=point_tree.query_ball_point(points, radius)\n",
    "idx\n",
    " # This gives the point in the KDTree which is within radius \n",
    "points= point_tree.data[point_tree.query_ball_point(points, radius)]\n",
    "\n",
    " "
   ]
  },
  {
   "cell_type": "code",
   "execution_count": null,
   "metadata": {},
   "outputs": [],
   "source": [
    "\n",
    "xi, yi = np.mgrid[x.min():x.max():nbins*1j, y.min():y.max():nbins*1j]\n",
    "xi, yi = np.mgrid[x.min():x.max():nbins, y.min():y.max():nbins]\n",
    "for i in range(nbins):\n",
    "    for j in range(nbins):\n",
    "        pass#print(xi[i], yi[i])\n",
    "\n",
    "#zi = (np.vstack([x,y]))\n",
    "#data_to_plot = zi.reshape(xi.shape)\n"
   ]
  },
  {
   "cell_type": "code",
   "execution_count": null,
   "metadata": {},
   "outputs": [],
   "source": [
    "fig, axes = plt.subplots(ncols=1, nrows=1, figsize=(8, 8))\n",
    "axes.pcolormesh(x, y, data_to_plot,  cmap=\"RdYlBu\")#, vmin=0.005, vmax=10)\n",
    "axes.set_title('2D Density with shading + threshold + scatter' )\n",
    "axes.scatter(x, y, s=5, color=\"black\")"
   ]
  },
  {
   "cell_type": "markdown",
   "metadata": {},
   "source": [
    "# load data from shapefile .shp"
   ]
  },
  {
   "cell_type": "code",
   "execution_count": null,
   "metadata": {},
   "outputs": [],
   "source": [
    "import shapefile as shp\n",
    "\n",
    "#local path:  maps\\ITA\\Com01012022\\Com01012022_WGS84.shp\n",
    "shp_path = r\"./maps/ITA/Com01012022/Com01012022_WGS84.shp\"\n",
    "sf = shp.Reader(shp_path)\n",
    "shapeRecs = sf.shapeRecords()\n",
    "n_shapes = len(shapeRecs)\n",
    "print(\"Number of shapes loades: \",n_shapes)\n"
   ]
  },
  {
   "cell_type": "code",
   "execution_count": null,
   "metadata": {},
   "outputs": [],
   "source": [
    "\n",
    " "
   ]
  },
  {
   "cell_type": "code",
   "execution_count": null,
   "metadata": {},
   "outputs": [],
   "source": [
    "data_to_plot = pd.DataFrame(columns = ['code', 'name', 'xc','yc','polygon'])\n",
    "\n",
    "for sh_id in range(n_shapes):\n",
    "        code = shapeRecs[sh_id].record[6]\n",
    "        \n",
    "        if code in selected_codes:\n",
    "\n",
    "                new_row = {     'code':  code, \n",
    "                                'name': shapeRecs[sh_id].record[7],\n",
    "                                'xc':   shapeRecs[sh_id].record[10],\n",
    "                                'yc':   shapeRecs[sh_id].record[11],\n",
    "                                'polygon': sf.shape(sh_id).points[:]}\n",
    "                        \n",
    "                data_to_plot = data_to_plot.append(new_row, ignore_index = True)\n",
    "\n",
    "     \n",
    "data_to_plot"
   ]
  },
  {
   "cell_type": "code",
   "execution_count": null,
   "metadata": {},
   "outputs": [],
   "source": [
    "for index, row in data_to_plot.iterrows():\n",
    "    coords = list(zip(*row.polygon))\n",
    "    \n",
    "    plt.plot(coords[0],coords[1], c=\"white\")\n",
    "    plt.fill(coords[0],coords[1], c=\"gray\", alpha=1)\n",
    "\n",
    "\n",
    "plt.show()\n"
   ]
  },
  {
   "cell_type": "code",
   "execution_count": null,
   "metadata": {},
   "outputs": [],
   "source": [
    "\n",
    "from pyproj import Transformer\n",
    "transformer = Transformer.from_crs(\"epsg:3857\",\"epsg:4326\")\n",
    "\n",
    "fix,ax = plt.subplots(figsize=(20,20))\n",
    "for index, row in data_to_plot.iterrows():\n",
    "    coords = list(zip(*row.polygon))\n",
    "    y = np.array(coords[0])\n",
    "    y = (y +500000)/0.9996\n",
    "    x = np.array(coords[1])\n",
    "    x=x/0.9996\n",
    "    lon, lat = transformer.transform(x, y)\n",
    "    plt.plot(lon,lat, c=\"white\",linewidth=0.5)\n",
    "    plt.fill(lon,lat, c=\"gray\", alpha=1)\n",
    "    \n",
    "\n",
    " "
   ]
  }
 ],
 "metadata": {
  "interpreter": {
   "hash": "916dbcbb3f70747c44a77c7bcd40155683ae19c65e1c03b4aa3499c5328201f1"
  },
  "kernelspec": {
   "display_name": "Python 3.8.10 64-bit",
   "language": "python",
   "name": "python3"
  },
  "language_info": {
   "codemirror_mode": {
    "name": "ipython",
    "version": 3
   },
   "file_extension": ".py",
   "mimetype": "text/x-python",
   "name": "python",
   "nbconvert_exporter": "python",
   "pygments_lexer": "ipython3",
   "version": "3.9.4"
  },
  "orig_nbformat": 4
 },
 "nbformat": 4,
 "nbformat_minor": 2
}
