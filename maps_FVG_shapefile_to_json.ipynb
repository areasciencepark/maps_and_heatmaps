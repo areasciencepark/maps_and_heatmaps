{
 "cells": [
  {
   "cell_type": "markdown",
   "metadata": {},
   "source": [
    "# Maps in shapefile and JSON format\n",
    "\n",
    "This notebook explores the potential of \"shapefile\" maps based on the \"polygonfile\" library\n",
    "\n",
    "Contents:\n",
    "1. Basic map information loaded from official sources (e.g. Eurostat) in shapefile format. This procedure may load much more data than is actually needed (e.g. a country may be composed by a number of small shapes that are not relevant for the application; we may be interested in a small number of coutntries...)\n",
    "\n",
    "2. A basic code to plot a map controlling border and fill color (from SHAPEFILE)\n",
    "\n",
    "3. Filter the dataset (e.g. only some selected countries) and save in JSON format for further use \n",
    "\n",
    "4. An efficient function to plot a map controlling border and fill color  (from JSON)\n",
    "\n",
    " \n",
    "\n"
   ]
  },
  {
   "cell_type": "code",
   "execution_count": 62,
   "metadata": {},
   "outputs": [],
   "source": [
    "import numpy as np\n",
    "import pandas as pd\n",
    "import matplotlib.pyplot as plt"
   ]
  },
  {
   "cell_type": "markdown",
   "metadata": {},
   "source": [
    "# load base map from JSON"
   ]
  },
  {
   "cell_type": "code",
   "execution_count": 63,
   "metadata": {},
   "outputs": [
    {
     "data": {
      "text/plain": [
       "'FeatureCollection'"
      ]
     },
     "execution_count": 63,
     "metadata": {},
     "output_type": "execute_result"
    }
   ],
   "source": [
    "file=r\"./maps/COMUNI/Italia_geo.json\"\n",
    "\n",
    "from pandas_geojson import read_geojson, filter_geojson\n",
    "geo_json = read_geojson(file)\n",
    "geo_json['type']\n"
   ]
  },
  {
   "cell_type": "code",
   "execution_count": 8,
   "metadata": {},
   "outputs": [
    {
     "data": {
      "text/plain": [
       "{'type': 'Feature',\n",
       " 'properties': {'name': 'Agliè',\n",
       "  'op_id': '130',\n",
       "  'minint_elettorale': '1010810010',\n",
       "  'minint_finloc': '1010810010',\n",
       "  'prov_name': 'Torino',\n",
       "  'prov_istat_code': '001',\n",
       "  'prov_istat_code_num': 1,\n",
       "  'prov_acr': 'TO',\n",
       "  'reg_name': 'Piemonte',\n",
       "  'reg_istat_code': '01',\n",
       "  'reg_istat_code_num': 1,\n",
       "  'opdm_id': '1',\n",
       "  'com_catasto_code': 'A074',\n",
       "  'com_istat_code': '001001',\n",
       "  'com_istat_code_num': 1001},\n",
       " 'geometry': {'type': 'MultiPolygon',\n",
       "  'coordinates': [[[[7.782661515272468, 45.38717349522259],\n",
       "     [7.791060005413257, 45.38629957444118],\n",
       "     [7.78970213841617, 45.38468296634535],\n",
       "     [7.790383377827609, 45.383285983278164],\n",
       "     [7.798943942272905, 45.376535355178675],\n",
       "     [7.799499099039531, 45.37625315160261],\n",
       "     [7.800426822639241, 45.375866849295306],\n",
       "     [7.80282043916414, 45.374933328866014],\n",
       "     [7.803001902144609, 45.36813026378089],\n",
       "     [7.803003262357942, 45.36800875688636],\n",
       "     [7.803009886582579, 45.36739222365561],\n",
       "     [7.802660329394739, 45.365934856297294],\n",
       "     [7.799108555491467, 45.357877389537556],\n",
       "     [7.796344153557446, 45.35726770450784],\n",
       "     [7.794979207348071, 45.3572128086757],\n",
       "     [7.794790551634666, 45.3572288287821],\n",
       "     [7.789153756874811, 45.35879844295465],\n",
       "     [7.787936188936448, 45.359127563424664],\n",
       "     [7.786047956391728, 45.359062508806936],\n",
       "     [7.784650492311994, 45.35813850151106],\n",
       "     [7.783948990014299, 45.35750995115434],\n",
       "     [7.782855032613745, 45.356130092259995],\n",
       "     [7.781989125747927, 45.35423957949369],\n",
       "     [7.781382996498502, 45.35214481153486],\n",
       "     [7.781037178114273, 45.35041286606367],\n",
       "     [7.780856170814562, 45.349330770097566],\n",
       "     [7.78098874458388, 45.34668580671079],\n",
       "     [7.781272013837244, 45.34541963519661],\n",
       "     [7.781054666697419, 45.34484123029374],\n",
       "     [7.777090534846719, 45.3422064643715],\n",
       "     [7.775701943595301, 45.341489480298534],\n",
       "     [7.773336510728359, 45.341680133736844],\n",
       "     [7.772277384599779, 45.342847930553944],\n",
       "     [7.772225369331326, 45.342892371182906],\n",
       "     [7.758536488215989, 45.3489913023902],\n",
       "     [7.756662522708004, 45.34945700268278],\n",
       "     [7.754758251397299, 45.35013834013316],\n",
       "     [7.750841336851549, 45.35177881881005],\n",
       "     [7.750686010330231, 45.35187613234228],\n",
       "     [7.750528307734749, 45.3520814471821],\n",
       "     [7.747994534330371, 45.35698641900004],\n",
       "     [7.747552471098724, 45.35792670008151],\n",
       "     [7.746342223926713, 45.35780541245287],\n",
       "     [7.7460435159602, 45.35861224582249],\n",
       "     [7.745798841531458, 45.35928465549798],\n",
       "     [7.745739435058105, 45.359662062002734],\n",
       "     [7.74578174129561, 45.36005859551445],\n",
       "     [7.750351207501661, 45.36418627510676],\n",
       "     [7.75297634183648, 45.36500709015101],\n",
       "     [7.755315838296866, 45.36546466623437],\n",
       "     [7.76456942254024, 45.37151050952607],\n",
       "     [7.764571967933767, 45.37164105412322],\n",
       "     [7.764547732995938, 45.371928833754865],\n",
       "     [7.764136130845748, 45.37450102783444],\n",
       "     [7.763768733290884, 45.37676309169166],\n",
       "     [7.763553231054058, 45.378076231016955],\n",
       "     [7.763323432781283, 45.37946766521809],\n",
       "     [7.763884836922117, 45.38094817230769],\n",
       "     [7.764205589270375, 45.38177254674361],\n",
       "     [7.76452155052109, 45.382514068547025],\n",
       "     [7.764886805705483, 45.38333712470883],\n",
       "     [7.765859755617178, 45.38481485392923],\n",
       "     [7.766190979409349, 45.38527751115905],\n",
       "     [7.766384834652736, 45.38552262894249],\n",
       "     [7.766726916149404, 45.385652342312795],\n",
       "     [7.766905318636531, 45.385672279492915],\n",
       "     [7.767084502946507, 45.38565620326601],\n",
       "     [7.767379587907365, 45.38559637823682],\n",
       "     [7.767704617506304, 45.38551888457691],\n",
       "     [7.773956118472213, 45.38919566497387],\n",
       "     [7.782661515272468, 45.38717349522259]]]]}}"
      ]
     },
     "execution_count": 8,
     "metadata": {},
     "output_type": "execute_result"
    }
   ],
   "source": [
    "#geo_json['features'][0]"
   ]
  },
  {
   "cell_type": "code",
   "execution_count": 116,
   "metadata": {},
   "outputs": [],
   "source": [
    "import pandas as pd\n",
    "nn = len(geo_json['features'])\n",
    "cols = [  'istat_r', 'istat_p','istat_c','nome', 'poly']\n",
    "df = pd.DataFrame(columns=cols)\n",
    "for i in range(nn):\n",
    "    new_row = {'istat_r' : geo_json['features'][i]['properties']['reg_istat_code'], \n",
    "                'istat_p': geo_json['features'][i]['properties']['prov_istat_code'],\n",
    "                'istat_c': geo_json['features'][i]['properties']['com_istat_code'],\n",
    "                'nome'   : geo_json['features'][i]['properties']['name'],\n",
    "                'poly'   : geo_json['features'][i]['geometry']['coordinates'][0][0]}\n",
    "                   # consider only firs polygon  \n",
    "         \n",
    "    df = df.append(new_row, ignore_index = True)\n"
   ]
  },
  {
   "cell_type": "code",
   "execution_count": 102,
   "metadata": {},
   "outputs": [],
   "source": [
    "df=df[ df.istat_r=='06']"
   ]
  },
  {
   "cell_type": "code",
   "execution_count": 117,
   "metadata": {},
   "outputs": [],
   "source": [
    "fig, ax = plt.subplots(figsize=(20,20))\n",
    "for index, row in df.iterrows():\n",
    "    for p in range(len(row.poly)):\n",
    "        x, y = list(zip(*row.poly)) \n",
    "        plt.plot(x,y, color = \"gray\", linewidth=.8)\n",
    "        plt.fill(x,y, color = \"green\", alpha = .1)\n",
    "plt.show()"
   ]
  },
  {
   "cell_type": "code",
   "execution_count": null,
   "metadata": {},
   "outputs": [],
   "source": [
    "df.to_json('FVG_sfondo.json', orient='records')"
   ]
  },
  {
   "cell_type": "markdown",
   "metadata": {},
   "source": []
  },
  {
   "cell_type": "code",
   "execution_count": 94,
   "metadata": {},
   "outputs": [
    {
     "data": {
      "text/html": [
       "<div>\n",
       "<style scoped>\n",
       "    .dataframe tbody tr th:only-of-type {\n",
       "        vertical-align: middle;\n",
       "    }\n",
       "\n",
       "    .dataframe tbody tr th {\n",
       "        vertical-align: top;\n",
       "    }\n",
       "\n",
       "    .dataframe thead th {\n",
       "        text-align: right;\n",
       "    }\n",
       "</style>\n",
       "<table border=\"1\" class=\"dataframe\">\n",
       "  <thead>\n",
       "    <tr style=\"text-align: right;\">\n",
       "      <th></th>\n",
       "      <th>CNTR_CODE</th>\n",
       "      <th>NUTS_ID</th>\n",
       "      <th>NAME_LATN</th>\n",
       "      <th>prov</th>\n",
       "    </tr>\n",
       "  </thead>\n",
       "  <tbody>\n",
       "    <tr>\n",
       "      <th>1240</th>\n",
       "      <td>IT</td>\n",
       "      <td>IT</td>\n",
       "      <td>Italia</td>\n",
       "      <td>IT</td>\n",
       "    </tr>\n",
       "    <tr>\n",
       "      <th>1241</th>\n",
       "      <td>IT</td>\n",
       "      <td>ITC</td>\n",
       "      <td>Nord-Ovest</td>\n",
       "      <td>ITC</td>\n",
       "    </tr>\n",
       "    <tr>\n",
       "      <th>1242</th>\n",
       "      <td>IT</td>\n",
       "      <td>ITC1</td>\n",
       "      <td>Piemonte</td>\n",
       "      <td>ITC1</td>\n",
       "    </tr>\n",
       "    <tr>\n",
       "      <th>1243</th>\n",
       "      <td>IT</td>\n",
       "      <td>ITC11</td>\n",
       "      <td>Torino</td>\n",
       "      <td>ITC11</td>\n",
       "    </tr>\n",
       "    <tr>\n",
       "      <th>1244</th>\n",
       "      <td>IT</td>\n",
       "      <td>ITC12</td>\n",
       "      <td>Vercelli</td>\n",
       "      <td>NaN</td>\n",
       "    </tr>\n",
       "    <tr>\n",
       "      <th>...</th>\n",
       "      <td>...</td>\n",
       "      <td>...</td>\n",
       "      <td>...</td>\n",
       "      <td>...</td>\n",
       "    </tr>\n",
       "    <tr>\n",
       "      <th>1369</th>\n",
       "      <td>IT</td>\n",
       "      <td>ITI41</td>\n",
       "      <td>Viterbo</td>\n",
       "      <td>NaN</td>\n",
       "    </tr>\n",
       "    <tr>\n",
       "      <th>1370</th>\n",
       "      <td>IT</td>\n",
       "      <td>ITI42</td>\n",
       "      <td>Rieti</td>\n",
       "      <td>NaN</td>\n",
       "    </tr>\n",
       "    <tr>\n",
       "      <th>1371</th>\n",
       "      <td>IT</td>\n",
       "      <td>ITI43</td>\n",
       "      <td>Roma</td>\n",
       "      <td>NaN</td>\n",
       "    </tr>\n",
       "    <tr>\n",
       "      <th>1372</th>\n",
       "      <td>IT</td>\n",
       "      <td>ITI44</td>\n",
       "      <td>Latina</td>\n",
       "      <td>NaN</td>\n",
       "    </tr>\n",
       "    <tr>\n",
       "      <th>1373</th>\n",
       "      <td>IT</td>\n",
       "      <td>ITI45</td>\n",
       "      <td>Frosinone</td>\n",
       "      <td>NaN</td>\n",
       "    </tr>\n",
       "  </tbody>\n",
       "</table>\n",
       "<p>134 rows × 4 columns</p>\n",
       "</div>"
      ],
      "text/plain": [
       "     CNTR_CODE NUTS_ID   NAME_LATN   prov\n",
       "1240        IT      IT      Italia     IT\n",
       "1241        IT     ITC  Nord-Ovest    ITC\n",
       "1242        IT    ITC1    Piemonte   ITC1\n",
       "1243        IT   ITC11      Torino  ITC11\n",
       "1244        IT   ITC12    Vercelli    NaN\n",
       "...        ...     ...         ...    ...\n",
       "1369        IT   ITI41     Viterbo    NaN\n",
       "1370        IT   ITI42       Rieti    NaN\n",
       "1371        IT   ITI43        Roma    NaN\n",
       "1372        IT   ITI44      Latina    NaN\n",
       "1373        IT   ITI45   Frosinone    NaN\n",
       "\n",
       "[134 rows x 4 columns]"
      ]
     },
     "execution_count": 94,
     "metadata": {},
     "output_type": "execute_result"
    }
   ],
   "source": [
    "codes1 = pd.read_csv(r\"./maps/NUTS_AT_2021.csv\", usecols=[\"CNTR_CODE\",\"NUTS_ID\", \"NAME_LATN\"])\n",
    "codes1 = codes1[ codes1.CNTR_CODE == \"IT\"] \n",
    "codes1['prov']=codes1['NUTS_ID'][:4]\n",
    "codes1 #= codes1[ codes1.prov == \"ITH4\"] \n",
    "\n",
    "codes1"
   ]
  },
  {
   "cell_type": "code",
   "execution_count": 95,
   "metadata": {},
   "outputs": [
    {
     "data": {
      "text/plain": [
       "'FeatureCollection'"
      ]
     },
     "execution_count": 95,
     "metadata": {},
     "output_type": "execute_result"
    }
   ],
   "source": [
    "file=r\"./maps/NUTS_BN_01M_2021_4326_LEVL_3.geojson\"\n",
    "\n",
    "from pandas_geojson import read_geojson, filter_geojson\n",
    "geo_json = read_geojson(file)\n",
    "\n",
    "#https://pypi.org/project/pandas-geojson/?msclkid=05bdafe0b06911ecbb0500c852af722c\n",
    "\n",
    " \n",
    "geo_json['type']\n"
   ]
  },
  {
   "cell_type": "code",
   "execution_count": 102,
   "metadata": {},
   "outputs": [
    {
     "data": {
      "text/plain": [
       "4076"
      ]
     },
     "execution_count": 102,
     "metadata": {},
     "output_type": "execute_result"
    }
   ],
   "source": [
    "len(geo_json['features'])"
   ]
  },
  {
   "cell_type": "code",
   "execution_count": 77,
   "metadata": {},
   "outputs": [
    {
     "data": {
      "text/plain": [
       "{'EU_FLAG': 'T',\n",
       " 'EFTA_FLAG': 'F',\n",
       " 'CC_FLAG': 'F',\n",
       " 'LEVL_CODE': 3,\n",
       " 'NUTS_BN_ID': 17,\n",
       " 'COAS_FLAG': 'F',\n",
       " 'OTHR_FLAG': 'F',\n",
       " 'FID': 17}"
      ]
     },
     "execution_count": 77,
     "metadata": {},
     "output_type": "execute_result"
    }
   ],
   "source": [
    "geo_json['features'][0]['properties']"
   ]
  },
  {
   "cell_type": "code",
   "execution_count": 63,
   "metadata": {},
   "outputs": [],
   "source": [
    "coords = geo_json['features'][0]['geometry']['coordinates']"
   ]
  },
  {
   "cell_type": "code",
   "execution_count": 72,
   "metadata": {},
   "outputs": [],
   "source": [
    "x = list(zip(*coords))[0]\n",
    "y = list(zip(*coords))[1]"
   ]
  },
  {
   "cell_type": "code",
   "execution_count": null,
   "metadata": {},
   "outputs": [],
   "source": []
  },
  {
   "cell_type": "code",
   "execution_count": 74,
   "metadata": {},
   "outputs": [
    {
     "data": {
      "text/plain": [
       "(25.490698,\n",
       " 25.491871,\n",
       " 25.502055,\n",
       " 25.505277,\n",
       " 25.496482,\n",
       " 25.494371,\n",
       " 25.498791,\n",
       " 25.510135,\n",
       " 25.511985,\n",
       " 25.494289,\n",
       " 25.479408,\n",
       " 25.471218,\n",
       " 25.468063,\n",
       " 25.4512,\n",
       " 25.439491,\n",
       " 25.423951,\n",
       " 25.414628,\n",
       " 25.41267,\n",
       " 25.41331,\n",
       " 25.414628,\n",
       " 25.41792,\n",
       " 25.414628,\n",
       " 25.399439,\n",
       " 25.407606,\n",
       " 25.411992,\n",
       " 25.409924,\n",
       " 25.414628,\n",
       " 25.42063,\n",
       " 25.423063,\n",
       " 25.421051,\n",
       " 25.434499,\n",
       " 25.447231,\n",
       " 25.46348,\n",
       " 25.472115,\n",
       " 25.500644,\n",
       " 25.518202,\n",
       " 25.508339,\n",
       " 25.498716,\n",
       " 25.497859,\n",
       " 25.507024,\n",
       " 25.525772,\n",
       " 25.529021,\n",
       " 25.530164,\n",
       " 25.546405,\n",
       " 25.549247,\n",
       " 25.547134,\n",
       " 25.550568)"
      ]
     },
     "execution_count": 74,
     "metadata": {},
     "output_type": "execute_result"
    }
   ],
   "source": [
    "x"
   ]
  },
  {
   "cell_type": "code",
   "execution_count": 73,
   "metadata": {},
   "outputs": [
    {
     "data": {
      "text/plain": [
       "(35.298332,\n",
       " 35.288967,\n",
       " 35.286333,\n",
       " 35.272997,\n",
       " 35.262096,\n",
       " 35.24823,\n",
       " 35.241459,\n",
       " 35.232452,\n",
       " 35.227594,\n",
       " 35.228493,\n",
       " 35.225147,\n",
       " 35.214848,\n",
       " 35.210879,\n",
       " 35.201519,\n",
       " 35.201986,\n",
       " 35.210192,\n",
       " 35.205854,\n",
       " 35.204943,\n",
       " 35.194243,\n",
       " 35.191894,\n",
       " 35.186026,\n",
       " 35.182729,\n",
       " 35.167514,\n",
       " 35.156515,\n",
       " 35.155309,\n",
       " 35.135215,\n",
       " 35.133076,\n",
       " 35.130346,\n",
       " 35.127542,\n",
       " 35.115488,\n",
       " 35.110284,\n",
       " 35.110274,\n",
       " 35.093018,\n",
       " 35.088319,\n",
       " 35.080045,\n",
       " 35.065597,\n",
       " 35.055675,\n",
       " 35.050485,\n",
       " 35.042701,\n",
       " 35.038232,\n",
       " 35.036627,\n",
       " 35.029091,\n",
       " 35.026439,\n",
       " 35.018853,\n",
       " 35.009954,\n",
       " 34.999734,\n",
       " 34.990757)"
      ]
     },
     "execution_count": 73,
     "metadata": {},
     "output_type": "execute_result"
    }
   ],
   "source": [
    "y"
   ]
  },
  {
   "cell_type": "markdown",
   "metadata": {},
   "source": [
    "# Load data on italian minicipalities and regions"
   ]
  },
  {
   "cell_type": "code",
   "execution_count": 2,
   "metadata": {},
   "outputs": [],
   "source": [
    "df = pd.read_csv('./data/Elenco-comuni-italiani.csv', sep=\";\", dtype='str')\n",
    "cols_to_use = ['Codice Regione', 'Codice Comune formato alfanumerico' ,'Denominazione in italiano']\n",
    "df = df[ cols_to_use ]\n",
    "df.columns = ['cod_regione', 'cod_comune', 'nome_comune']\n",
    "df = df[ df['cod_regione']== '06' ] # regione FVG\n",
    "selected_codes = df.cod_comune.to_list()\n",
    "\n",
    "#df"
   ]
  },
  {
   "cell_type": "code",
   "execution_count": 3,
   "metadata": {},
   "outputs": [
    {
     "data": {
      "text/plain": [
       "<matplotlib.collections.PathCollection at 0x19bbc07ddf0>"
      ]
     },
     "execution_count": 3,
     "metadata": {},
     "output_type": "execute_result"
    },
    {
     "data": {
      "image/png": "[encoded data removed]",
      "text/plain": [
       "<Figure size 432x288 with 1 Axes>"
      ]
     },
     "metadata": {
      "needs_background": "light"
     },
     "output_type": "display_data"
    }
   ],
   "source": [
    "    points = pd.read_csv('./data/comuni_lat_long.csv', sep=\";\")\n",
    "    x = points.lng\n",
    "    y = points.lat\n",
    "    plt.scatter(x=x, y=y,s=2, c=\"black\", marker=\".\")\n",
    "     "
   ]
  },
  {
   "cell_type": "code",
   "execution_count": 2,
   "metadata": {},
   "outputs": [
    {
     "ename": "NameError",
     "evalue": "name 'x' is not defined",
     "output_type": "error",
     "traceback": [
      "\u001b[1;31m---------------------------------------------------------------------------\u001b[0m",
      "\u001b[1;31mNameError\u001b[0m                                 Traceback (most recent call last)",
      "\u001b[1;32m<ipython-input-2-b0bb8ee7f245>\u001b[0m in \u001b[0;36m<module>\u001b[1;34m\u001b[0m\n\u001b[0;32m      1\u001b[0m \u001b[0mnbins\u001b[0m\u001b[1;33m=\u001b[0m\u001b[1;36m10\u001b[0m\u001b[1;33m\u001b[0m\u001b[1;33m\u001b[0m\u001b[0m\n\u001b[1;32m----> 2\u001b[1;33m \u001b[0mradius\u001b[0m\u001b[1;33m=\u001b[0m \u001b[1;33m(\u001b[0m\u001b[0mx\u001b[0m\u001b[1;33m.\u001b[0m\u001b[0mmax\u001b[0m\u001b[1;33m(\u001b[0m\u001b[1;33m)\u001b[0m\u001b[1;33m-\u001b[0m\u001b[0mx\u001b[0m\u001b[1;33m.\u001b[0m\u001b[0mmin\u001b[0m\u001b[1;33m(\u001b[0m\u001b[1;33m)\u001b[0m\u001b[1;33m)\u001b[0m\u001b[1;33m\u001b[0m\u001b[1;33m\u001b[0m\u001b[0m\n\u001b[0m\u001b[0;32m      3\u001b[0m \u001b[0mprint\u001b[0m\u001b[1;33m(\u001b[0m\u001b[0mradius\u001b[0m\u001b[1;33m)\u001b[0m\u001b[1;33m\u001b[0m\u001b[1;33m\u001b[0m\u001b[0m\n\u001b[0;32m      4\u001b[0m \u001b[0mpoints\u001b[0m \u001b[1;33m=\u001b[0m \u001b[0mnp\u001b[0m\u001b[1;33m.\u001b[0m\u001b[0marray\u001b[0m\u001b[1;33m(\u001b[0m\u001b[0mlist\u001b[0m\u001b[1;33m(\u001b[0m\u001b[0mzip\u001b[0m\u001b[1;33m(\u001b[0m\u001b[0mx\u001b[0m\u001b[1;33m,\u001b[0m\u001b[0my\u001b[0m\u001b[1;33m)\u001b[0m\u001b[1;33m)\u001b[0m\u001b[1;33m)\u001b[0m\u001b[1;33m\u001b[0m\u001b[1;33m\u001b[0m\u001b[0m\n\u001b[0;32m      5\u001b[0m \u001b[0mpoints\u001b[0m \u001b[1;33m=\u001b[0m \u001b[0mpoints\u001b[0m\u001b[1;33m[\u001b[0m\u001b[1;33m:\u001b[0m\u001b[1;36m10\u001b[0m\u001b[1;33m]\u001b[0m\u001b[1;33m\u001b[0m\u001b[1;33m\u001b[0m\u001b[0m\n",
      "\u001b[1;31mNameError\u001b[0m: name 'x' is not defined"
     ]
    }
   ],
   "source": [
    "nbins=10\n",
    "radius= (x.max()-x.min())\n",
    "print(radius)\n",
    "points = np.array(list(zip(x,y)))\n",
    "points = points[:10]\n",
    "points"
   ]
  },
  {
   "cell_type": "code",
   "execution_count": 1,
   "metadata": {},
   "outputs": [
    {
     "ename": "NameError",
     "evalue": "name 'points' is not defined",
     "output_type": "error",
     "traceback": [
      "\u001b[1;31m---------------------------------------------------------------------------\u001b[0m",
      "\u001b[1;31mNameError\u001b[0m                                 Traceback (most recent call last)",
      "\u001b[1;32m<ipython-input-1-fe0402c92d47>\u001b[0m in \u001b[0;36m<module>\u001b[1;34m\u001b[0m\n\u001b[0;32m      1\u001b[0m \u001b[1;32mimport\u001b[0m \u001b[0mscipy\u001b[0m\u001b[1;33m.\u001b[0m\u001b[0mspatial\u001b[0m \u001b[1;32mas\u001b[0m \u001b[0mspatial\u001b[0m\u001b[1;33m\u001b[0m\u001b[1;33m\u001b[0m\u001b[0m\n\u001b[0;32m      2\u001b[0m \u001b[1;33m\u001b[0m\u001b[0m\n\u001b[1;32m----> 3\u001b[1;33m \u001b[0mpoint_tree\u001b[0m \u001b[1;33m=\u001b[0m \u001b[0mspatial\u001b[0m\u001b[1;33m.\u001b[0m\u001b[0mcKDTree\u001b[0m\u001b[1;33m(\u001b[0m\u001b[0mpoints\u001b[0m\u001b[1;33m)\u001b[0m\u001b[1;33m\u001b[0m\u001b[1;33m\u001b[0m\u001b[0m\n\u001b[0m\u001b[0;32m      4\u001b[0m \u001b[1;31m# This finds the index of all points within  radius\u001b[0m\u001b[1;33m\u001b[0m\u001b[1;33m\u001b[0m\u001b[1;33m\u001b[0m\u001b[0m\n\u001b[0;32m      5\u001b[0m \u001b[0mradius\u001b[0m\u001b[1;33m=\u001b[0m\u001b[1;36m100\u001b[0m\u001b[1;33m\u001b[0m\u001b[1;33m\u001b[0m\u001b[0m\n",
      "\u001b[1;31mNameError\u001b[0m: name 'points' is not defined"
     ]
    }
   ],
   "source": [
    "import scipy.spatial as spatial\n",
    "\n",
    "point_tree = spatial.cKDTree(points)\n",
    "# This finds the index of all points within  radius\n",
    "radius=100\n",
    "idx=point_tree.query_ball_point(points, radius)\n",
    "idx\n",
    " # This gives the point in the KDTree which is within radius \n",
    "points= point_tree.data[point_tree.query_ball_point(points, radius)]\n",
    "\n",
    " "
   ]
  },
  {
   "cell_type": "code",
   "execution_count": null,
   "metadata": {},
   "outputs": [],
   "source": [
    "\n",
    "xi, yi = np.mgrid[x.min():x.max():nbins*1j, y.min():y.max():nbins*1j]\n",
    "xi, yi = np.mgrid[x.min():x.max():nbins, y.min():y.max():nbins]\n",
    "for i in range(nbins):\n",
    "    for j in range(nbins):\n",
    "        pass#print(xi[i], yi[i])\n",
    "\n",
    "#zi = (np.vstack([x,y]))\n",
    "#data_to_plot = zi.reshape(xi.shape)\n"
   ]
  },
  {
   "cell_type": "code",
   "execution_count": null,
   "metadata": {},
   "outputs": [],
   "source": [
    "fig, axes = plt.subplots(ncols=1, nrows=1, figsize=(8, 8))\n",
    "axes.pcolormesh(x, y, data_to_plot,  cmap=\"RdYlBu\")#, vmin=0.005, vmax=10)\n",
    "axes.set_title('2D Density with shading + threshold + scatter' )\n",
    "axes.scatter(x, y, s=5, color=\"black\")"
   ]
  },
  {
   "cell_type": "markdown",
   "metadata": {},
   "source": [
    "# load data from shapefile .shp"
   ]
  },
  {
   "cell_type": "code",
   "execution_count": null,
   "metadata": {},
   "outputs": [],
   "source": [
    "import shapefile as shp\n",
    "\n",
    "#local path:  maps\\ITA\\Com01012022\\Com01012022_WGS84.shp\n",
    "shp_path = r\"./maps/ITA/Com01012022/Com01012022_WGS84.shp\"\n",
    "sf = shp.Reader(shp_path)\n",
    "shapeRecs = sf.shapeRecords()\n",
    "n_shapes = len(shapeRecs)\n",
    "print(\"Number of shapes loades: \",n_shapes)\n"
   ]
  },
  {
   "cell_type": "code",
   "execution_count": null,
   "metadata": {},
   "outputs": [],
   "source": [
    "\n",
    " "
   ]
  },
  {
   "cell_type": "code",
   "execution_count": null,
   "metadata": {},
   "outputs": [],
   "source": [
    "data_to_plot = pd.DataFrame(columns = ['code', 'name', 'xc','yc','polygon'])\n",
    "\n",
    "for sh_id in range(n_shapes):\n",
    "        code = shapeRecs[sh_id].record[6]\n",
    "        \n",
    "        if code in selected_codes:\n",
    "\n",
    "                new_row = {     'code':  code, \n",
    "                                'name': shapeRecs[sh_id].record[7],\n",
    "                                'xc':   shapeRecs[sh_id].record[10],\n",
    "                                'yc':   shapeRecs[sh_id].record[11],\n",
    "                                'polygon': sf.shape(sh_id).points[:]}\n",
    "                        \n",
    "                data_to_plot = data_to_plot.append(new_row, ignore_index = True)\n",
    "\n",
    "     \n",
    "data_to_plot"
   ]
  },
  {
   "cell_type": "code",
   "execution_count": null,
   "metadata": {},
   "outputs": [],
   "source": [
    "for index, row in data_to_plot.iterrows():\n",
    "    coords = list(zip(*row.polygon))\n",
    "    \n",
    "    plt.plot(coords[0],coords[1], c=\"white\")\n",
    "    plt.fill(coords[0],coords[1], c=\"gray\", alpha=1)\n",
    "\n",
    "\n",
    "plt.show()\n"
   ]
  },
  {
   "cell_type": "code",
   "execution_count": null,
   "metadata": {},
   "outputs": [],
   "source": [
    "\n",
    "from pyproj import Transformer\n",
    "transformer = Transformer.from_crs(\"epsg:3857\",\"epsg:4326\")\n",
    "\n",
    "fix,ax = plt.subplots(figsize=(20,20))\n",
    "for index, row in data_to_plot.iterrows():\n",
    "    coords = list(zip(*row.polygon))\n",
    "    y = np.array(coords[0])\n",
    "    y = (y +500000)/0.9996\n",
    "    x = np.array(coords[1])\n",
    "    x=x/0.9996\n",
    "    lon, lat = transformer.transform(x, y)\n",
    "    plt.plot(lon,lat, c=\"white\",linewidth=0.5)\n",
    "    plt.fill(lon,lat, c=\"gray\", alpha=1)\n",
    "    \n",
    "\n",
    " "
   ]
  }
 ],
 "metadata": {
  "interpreter": {
   "hash": "916dbcbb3f70747c44a77c7bcd40155683ae19c65e1c03b4aa3499c5328201f1"
  },
  "kernelspec": {
   "display_name": "Python 3.8.10 64-bit",
   "language": "python",
   "name": "python3"
  },
  "language_info": {
   "codemirror_mode": {
    "name": "ipython",
    "version": 3
   },
   "file_extension": ".py",
   "mimetype": "text/x-python",
   "name": "python",
   "nbconvert_exporter": "python",
   "pygments_lexer": "ipython3",
   "version": "3.9.4"
  },
  "orig_nbformat": 4
 },
 "nbformat": 4,
 "nbformat_minor": 2
}
