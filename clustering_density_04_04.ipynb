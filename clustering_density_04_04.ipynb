{
 "cells": [
  {
   "cell_type": "code",
   "execution_count": null,
   "id": "63566eca",
   "metadata": {},
   "outputs": [],
   "source": [
    "from sklearn.datasets import make_blobs\n",
    "import matplotlib.pyplot as plt\n",
    "import pandas as pd\n",
    "import numpy as np\n",
    "from scipy.spatial import distance_matrix\n",
    "\n",
    "np.random.seed(123)"
   ]
  },
  {
   "cell_type": "markdown",
   "id": "f90e717c",
   "metadata": {},
   "source": [
    "# Load Data"
   ]
  },
  {
   "cell_type": "code",
   "execution_count": null,
   "id": "b37ff5dc",
   "metadata": {},
   "outputs": [],
   "source": [
    "data = pd.read_csv(r'./maps/FVG/FVG_companies.csv', dtype='str')\n",
    "data.columns = ['ind', 'cf', 'company','unit', 'lat', 'lon']\n",
    "data['lat'] = data['lat'].astype(float)\n",
    "data['lon'] = data['lon'].astype(float)\n",
    "data.shape"
   ]
  },
  {
   "cell_type": "markdown",
   "id": "9444ea5b",
   "metadata": {},
   "source": [
    "# Data Exploration"
   ]
  },
  {
   "cell_type": "code",
   "execution_count": null,
   "id": "a7432841",
   "metadata": {},
   "outputs": [],
   "source": [
    "def plot_clusters(X, cluster_labels, title=\"\"):\n",
    "    for i in np.unique(cluster_labels):\n",
    "        cluster_points = X[cluster_labels == i , :]       \n",
    "        if i == 0: \n",
    "            ax.scatter(cluster_points[:,0] , cluster_points[:,1] , color=\"yellow\", marker='.', s=2)\n",
    "        else:\n",
    "            ax.scatter(cluster_points[:,0] , cluster_points[:,1] , cmap = i, marker='o', s=2)\n",
    "    ax.set_title(title, fontweight='bold')\n",
    "    return"
   ]
  },
  {
   "cell_type": "code",
   "execution_count": null,
   "id": "bee85141",
   "metadata": {},
   "outputs": [],
   "source": [
    "X = np.array(data[ ['lon','lat'  ] ]) \n",
    "n, p  = X.shape\n",
    "_, ax = plt.subplots(figsize=(8,8))\n",
    "plot_clusters(X, np.ones(n), title = \"dataset\")\n",
    "plt.show()\n"
   ]
  },
  {
   "cell_type": "markdown",
   "metadata": {},
   "source": [
    "## Scaling factor"
   ]
  },
  {
   "cell_type": "code",
   "execution_count": null,
   "id": "bba5253c",
   "metadata": {},
   "outputs": [],
   "source": [
    "# approximated, valid only at short distances but good enough to give a rougn idea of epsilon\n",
    "R = 6371 #earth radius\n",
    "lon1, lat1,  =  12.6, 46.0\n",
    "lon2, lat2   =  13.8, 46.0\n",
    "# longitude x\n",
    "dx = R*(lon2-lon1)*np.cos(lat1)*np.pi/180\n",
    "# latitude y\n",
    "dy = R* (lat2-lat1)*np.pi/180\n",
    "d =  np.sqrt(dx**2 +  dy**2)\n",
    "dx, dy"
   ]
  },
  {
   "cell_type": "code",
   "execution_count": null,
   "id": "4590a1a7",
   "metadata": {},
   "outputs": [],
   "source": [
    "lon1, lat1,  =  13.2, 45.6\n",
    "lon2, lat2   =  13.2, 46.6\n",
    "# longitude x\n",
    "dx = R*(lon2-lon1)*np.cos(lat1)*np.pi/180\n",
    "# latitude y\n",
    "dy = R* (lat2-lat1)*np.pi/180\n",
    "d =  np.sqrt(dx**2 +  dy**2)\n",
    "dx, dy"
   ]
  },
  {
   "cell_type": "code",
   "execution_count": null,
   "id": "15aab97e",
   "metadata": {},
   "outputs": [],
   "source": [
    "# TODO add scaling factor 57,111 to have more \"readable\" values of epsilon in km"
   ]
  },
  {
   "cell_type": "markdown",
   "id": "6fbabb86",
   "metadata": {},
   "source": [
    "## calculate density for each point\n",
    "X = data points = company position\n",
    "G = grid points equally spaced"
   ]
  },
  {
   "cell_type": "code",
   "execution_count": null,
   "id": "f666ef03",
   "metadata": {},
   "outputs": [],
   "source": [
    "grid = pd.read_csv(r'./maps/FVG/FVG_grid.csv')\n",
    "nbins=np.sqrt(grid.shape[0]).astype(int)\n",
    "xi = np.array(grid.x).reshape(nbins,nbins)\n",
    "yi = np.array(grid.y).reshape(nbins,nbins)\n",
    "G =  np.array(grid)"
   ]
  },
  {
   "cell_type": "code",
   "execution_count": null,
   "id": "aab26593",
   "metadata": {},
   "outputs": [],
   "source": [
    "n_reshape = np.sqrt(n_grid_points).astype(int)"
   ]
  },
  {
   "cell_type": "markdown",
   "id": "90320999",
   "metadata": {},
   "source": [
    "# calculate distance matrix"
   ]
  },
  {
   "cell_type": "code",
   "execution_count": null,
   "id": "d9322d9a",
   "metadata": {},
   "outputs": [],
   "source": [
    "dm = distance_matrix(G,X)\n",
    "n_data_points= X.shape[0]\n",
    "n_grid_points=G.shape[0]"
   ]
  },
  {
   "cell_type": "code",
   "execution_count": null,
   "id": "d029f2fc",
   "metadata": {},
   "outputs": [],
   "source": [
    "    # n_grid_points = G.shape[0]\n",
    "    # dm = distance_matrix(G,X)\n",
    "    # eps_neighb=np.empty(n_grid_points)\n",
    "    # epsilon=.7\n",
    "    # for g in range(n_grid_points):\n",
    "    #     print(g)\n",
    "    #     distances = dm[g]\n",
    "    #     eps_neighb[g] = np.where(X[ (distances < epsilon) ])[0]\n",
    "\n",
    "    # return eps_neighb\n"
   ]
  },
  {
   "cell_type": "code",
   "execution_count": null,
   "id": "34f482f5",
   "metadata": {},
   "outputs": [],
   "source": [
    "def epsilon_neighborhood(dm, X, g, epsilon):\n",
    "    \"\"\"\n",
    "    dm: distance_matrix(G,X)\n",
    "    g: point of the grid G\n",
    "    returns eps_neighb a list of indices of X that are within a distance epsilon of point G\n",
    "    \"\"\"\n",
    "    distances = dm[g]\n",
    "    eps_neighb = np.where(X[ (distances < epsilon) ])[0]\n",
    "    number_of_neighb = len(eps_neighb)\n",
    "    \n",
    "    return number_of_neighb, eps_neighb\n"
   ]
  },
  {
   "cell_type": "code",
   "execution_count": null,
   "id": "c86318da",
   "metadata": {},
   "outputs": [],
   "source": [
    "minPoints = 20\n",
    "fig, ax = plt.subplots(nrows = 1, ncols = 5, figsize = (15,5))\n",
    "nplot=0\n",
    "for epsilon in [1e-3, 1e-2, 5e-2, 1e-1, 2e-1]:\n",
    "    nn_epsilon = []\n",
    "    is_core = []\n",
    "    for g in range(n_grid_points):\n",
    "        number_of_neighb, eps_neighb = epsilon_neighborhood(dm, X, g, epsilon)\n",
    "        nn_epsilon.append(number_of_neighb)\n",
    "        is_core.append( number_of_neighb > minPoints  )\n",
    "    \n",
    "    ax[nplot].hist(nn_epsilon, bins = 100)\n",
    "    nplot+=1\n",
    "    fraction_core_points = np.array(is_core).mean()\n",
    "    print(f'Given Epsilon = {epsilon} and minPoints = {minPoints}, the fraction of core points is {fraction_core_points}')"
   ]
  },
  {
   "cell_type": "markdown",
   "id": "0a083d8f",
   "metadata": {},
   "source": [
    "select epsilon = .05, minPoints=20"
   ]
  },
  {
   "cell_type": "markdown",
   "id": "16097fb1",
   "metadata": {},
   "source": [
    "# compute density"
   ]
  },
  {
   "cell_type": "code",
   "execution_count": null,
   "id": "7c7787ff",
   "metadata": {},
   "outputs": [],
   "source": [
    "def compute_density(dm, X, G, epsilon):\n",
    "    n_grid_points=  G.shape[0]\n",
    "    n_data_points = X.shape[0]\n",
    "    density = np.zeros(n_grid_points).astype(int)\n",
    "    number_of_neighb = np.zeros(n_grid_points).astype(int)\n",
    "\n",
    "    for g in range(n_grid_points):\n",
    "        nnb, eps_neighb = epsilon_neighborhood(dm, X, g, epsilon)\n",
    "        number_of_neighb[g] = nnb\n",
    "    \n",
    "    density = number_of_neighb / n_data_points\n",
    "        \n",
    "    return np.array(number_of_neighb), np.array(density)"
   ]
  },
  {
   "cell_type": "code",
   "execution_count": null,
   "id": "e4fdedac",
   "metadata": {},
   "outputs": [],
   "source": [
    "\n",
    "nn, dG1 = compute_density(dm, X, G,  epsilon=2e-2)\n"
   ]
  },
  {
   "cell_type": "code",
   "execution_count": null,
   "id": "46c76abe",
   "metadata": {},
   "outputs": [],
   "source": [
    "cmap = \"Reds\""
   ]
  },
  {
   "cell_type": "code",
   "execution_count": null,
   "id": "f63652ef",
   "metadata": {},
   "outputs": [],
   "source": [
    "dG1r = dG1.reshape((n_reshape,n_reshape))\n",
    "plt.pcolormesh(xi, yi, dG1r,shading='auto', cmap=cmap)\n"
   ]
  },
  {
   "cell_type": "code",
   "execution_count": null,
   "id": "c902445d",
   "metadata": {},
   "outputs": [],
   "source": [
    "\n",
    "fig, (ax1,ax2, ax3) = plt.subplots(figsize=(16,5), nrows=1, ncols=3)\n",
    "nn, dG1 = compute_density(dm, X, G, epsilon=0.06)\n",
    "\n",
    "cmap=\"Reds\"\n",
    "n_reshape = 100\n",
    "dG1r = dG1.reshape((n_reshape,n_reshape))\n",
    "\n",
    "ax1.pcolormesh(xi, yi, dG1r,shading='nearest', cmap=cmap)\n",
    "\n",
    "threshold=epsilon/50\n",
    "dG1rM = np.ma.masked_array(dG1r, dG1r <threshold)\n",
    "ax2.pcolormesh(xi, yi, dG1rM, shading='auto', cmap=cmap, vmin=0)\n",
    "\n",
    "ax3.pcolormesh(xi, yi, dG1rM, shading='auto', cmap=cmap, alpha = 1, zorder = 1)\n",
    "ax3.contour(xi, yi, dG1rM, cmap=\"magma\", vmin=threshold, zorder = 3)\n",
    "plt.show()\n"
   ]
  },
  {
   "cell_type": "code",
   "execution_count": null,
   "id": "8ef1f4ce",
   "metadata": {},
   "outputs": [],
   "source": [
    "def plot_map(df, color_fill = \"green\", alpha = .2, color_border= \"gray\" , linewidth = .8):\n",
    "    for _, row in df.iterrows():\n",
    "        x, y = list(zip(*row.poly)) \n",
    "        plt.fill(x,y, color = color_fill, alpha = alpha, zorder=1)\n",
    "        plt.plot(x,y, color = color_border, linewidth=linewidth, zorder=2)"
   ]
  },
  {
   "cell_type": "code",
   "execution_count": null,
   "id": "1111f4c3",
   "metadata": {},
   "outputs": [],
   "source": [
    "#load data from file\n",
    "ita = pd.read_json(r'./maps/FVG/FVG_mappa.json', orient='records')\n",
    "# filter a single region\n",
    "fvg=ita[ ita.istat_r==6]\n",
    "# plot the map\n"
   ]
  },
  {
   "cell_type": "code",
   "execution_count": null,
   "id": "2d6215d7",
   "metadata": {},
   "outputs": [],
   "source": [
    "fig, ax = plt.subplots(figsize=(20,20))\n",
    "plot_map(fvg, color_fill = \"lightgray\", alpha = 1, color_border= \"darkgray\" , linewidth = 2)\n",
    "plt.pcolormesh(xi, yi, dG1rM, shading='auto', cmap=cmap, alpha = .5, zorder = 3)\n",
    "plt.contour(xi, yi, dG1rM, cmap=\"magma\", vmin=threshold, zorder = 4)\n",
    "plt.show()"
   ]
  },
  {
   "cell_type": "code",
   "execution_count": null,
   "id": "876402b8",
   "metadata": {},
   "outputs": [],
   "source": [
    "fig, ax = plt.subplots(figsize=(10,10))\n",
    "plot_map(fvg, color_fill = \"lightgray\", alpha = .6, color_border= \"white\" , linewidth = .8)\n",
    "plt.contour(xi, yi, dG1rM, cmap=\"magma\", vmin=threshold, zorder = 4)\n",
    "\n",
    "plt.show()"
   ]
  },
  {
   "cell_type": "markdown",
   "id": "095fff17",
   "metadata": {},
   "source": [
    "## other data points"
   ]
  },
  {
   "cell_type": "code",
   "execution_count": null,
   "id": "91af257d",
   "metadata": {},
   "outputs": [],
   "source": [
    "dd = pd.read_csv(r'./data/summary.csv')\n",
    "dd = dd[ dd.x > 12.3]\n",
    "dd = dd[ dd.x < 14.0]\n",
    "dd = dd[ dd.y > 45.6]\n",
    "dd = dd[ dd.y < 46.7]\n",
    "\n"
   ]
  },
  {
   "cell_type": "code",
   "execution_count": null,
   "id": "fa473ffc",
   "metadata": {},
   "outputs": [],
   "source": [
    "D = np.array(dd[ ['x','y' ] ]) "
   ]
  },
  {
   "cell_type": "code",
   "execution_count": null,
   "id": "a62e7c6f",
   "metadata": {},
   "outputs": [],
   "source": [
    "dm = distance_matrix(G,D)\n",
    "n_data_points= D.shape[0]\n",
    "n_grid_points= G.shape[0]\n",
    "n_reshape = np.sqrt(n_grid_points).astype(int)"
   ]
  },
  {
   "cell_type": "code",
   "execution_count": null,
   "id": "91837521",
   "metadata": {},
   "outputs": [],
   "source": [
    "D.shape"
   ]
  },
  {
   "cell_type": "code",
   "execution_count": null,
   "id": "6e7dd16d",
   "metadata": {},
   "outputs": [],
   "source": [
    "G.shape"
   ]
  },
  {
   "cell_type": "code",
   "execution_count": null,
   "id": "fa6e3b34",
   "metadata": {},
   "outputs": [],
   "source": [
    "dm.shape"
   ]
  },
  {
   "cell_type": "code",
   "execution_count": null,
   "id": "e5a01708",
   "metadata": {},
   "outputs": [],
   "source": [
    "nn, dens = compute_density(dm, D, G,  epsilon=5e-2)\n",
    "\n"
   ]
  },
  {
   "cell_type": "code",
   "execution_count": null,
   "id": "ecce4e54",
   "metadata": {},
   "outputs": [],
   "source": [
    "dens_r = dens.reshape((n_reshape,n_reshape))\n",
    "plt.pcolormesh(xi, yi, dens_r, shading='auto', cmap=\"magma\")"
   ]
  },
  {
   "cell_type": "code",
   "execution_count": null,
   "id": "0367dcbd",
   "metadata": {},
   "outputs": [],
   "source": [
    "fig, ax = plt.subplots(figsize=(20,20))\n",
    "cmap = \"magma\"\n",
    "plot_map(fvg, color_fill = \"lightgray\", alpha = 1, color_border= \"darkgray\" , linewidth = 2)\n",
    "\n",
    "threshold=epsilon/100\n",
    "dens_r_M = np.ma.masked_array(dens_r, dG1r <threshold)\n",
    "plt.pcolormesh(xi, yi, dens_r_M, shading='auto', cmap=cmap, alpha = .5, zorder = 4)\n",
    "\n",
    "plt.contour(xi, yi, dens_r_M, cmap=cmap,  zorder = 5)\n",
    "\n",
    "\n",
    "plt.show()"
   ]
  },
  {
   "cell_type": "code",
   "execution_count": null,
   "id": "a9290cee",
   "metadata": {},
   "outputs": [],
   "source": [
    "fig, ax = plt.subplots(figsize=(20,20))\n",
    "\n",
    "plot_map(fvg, color_fill = \"lightgray\", alpha = .2, color_border= \"darkgray\" , linewidth = 2)\n",
    "\n",
    "plt.scatter(dd.x,dd.y, s=dd.z*10, c = dd.z, alpha = .8, cmap = \"magma\", zorder = 5)\n"
   ]
  },
  {
   "cell_type": "code",
   "execution_count": null,
   "id": "463c075d",
   "metadata": {},
   "outputs": [],
   "source": [
    " \n",
    "\n"
   ]
  },
  {
   "cell_type": "markdown",
   "id": "62b366f8",
   "metadata": {},
   "source": [
    "# CLUSTERING"
   ]
  },
  {
   "cell_type": "code",
   "execution_count": null,
   "id": "4d1c1e24",
   "metadata": {},
   "outputs": [],
   "source": [
    "epsilon = 1\n",
    "minPoints = 10\n",
    "dm = distance_matrix(X,X)\n",
    "is_core = np.zeros(n).astype(int)\n",
    "for j in range(n):\n",
    "    n_neibs = np.unique(np.where( dm[j] < epsilon )).flatten()\n",
    "    if len(n_neibs) >= minPoints: is_core[j] = 1\n"
   ]
  },
  {
   "cell_type": "code",
   "execution_count": null,
   "id": "d8c4ba01",
   "metadata": {},
   "outputs": [],
   "source": [
    "#compute the minimum distances of the k-th nearest neighbour\n",
    "from scipy.spatial import distance_matrix\n",
    "dm = distance_matrix(X,X)\n",
    "values = np.reshape(dm,-1)\n",
    "plt.hist(values, bins = 100)\n",
    "plt.show()\n"
   ]
  },
  {
   "cell_type": "code",
   "execution_count": null,
   "id": "0321905f",
   "metadata": {},
   "outputs": [],
   "source": [
    "knn = 5\n",
    "min_distances= np.partition(dm, knn, axis=0)[knn] \n",
    "plt.hist(min_distances, bins = 100)\n",
    "plt.show"
   ]
  },
  {
   "cell_type": "code",
   "execution_count": null,
   "id": "731dd700",
   "metadata": {},
   "outputs": [],
   "source": [
    "for p in range(10,100,10):\n",
    "    print(f\"il {p}° percentile ==> distanza {np.percentile(min_distances, p)}\")"
   ]
  },
  {
   "cell_type": "code",
   "execution_count": null,
   "id": "e4700080",
   "metadata": {},
   "outputs": [],
   "source": [
    "# dm = distance_matrix(X,X)\n",
    "# index = 2\n",
    "# distances = dm[index]\n",
    "\n",
    "# epsilon = .02\n",
    "\n",
    "# distances_epsilon = distances[ distances <= epsilon]\n",
    "\n"
   ]
  },
  {
   "cell_type": "code",
   "execution_count": null,
   "id": "aac7c51d",
   "metadata": {},
   "outputs": [],
   "source": [
    "# def epsilon_neighborhood( index, epsilon):\n",
    "#     distances = dm[index]\n",
    "#     neighbours_indices = np.where( distances <= epsilon )\n",
    "#     return np.array(neighbours_indices)[0]\n",
    "\n",
    "# def is_core(p, epsilon, minPoints):\n",
    "#     nbhood =  epsilon_neighborhood(p, epsilon)\n",
    "#     return (len(nbhood) >= minPoints)\n",
    "\n",
    "# def is_directly_density_reachable(p,q, epsilon, minPoints):\n",
    "#     '''An object q is directly density-reachable from object p \n",
    "#     if q is within the ε-Neighborhood of p \n",
    "#     and p is a core object'''\n",
    "#     is_ddr = False\n",
    "#     neib=np.array([])\n",
    "#     if is_core(p, epsilon, minPoints):\n",
    "#         neib = epsilon_neighborhood(p, epsilon)\n",
    "#         if (q in neib):\n",
    "#             is_ddr = True\n",
    "#     return is_ddr, neib\n",
    "\n",
    "\n"
   ]
  },
  {
   "cell_type": "code",
   "execution_count": null,
   "id": "69fa9a76",
   "metadata": {},
   "outputs": [],
   "source": [
    "# for eps in [.11, .002]:\n",
    "#     nbindexes = epsilon_neighborhood(12, eps)\n",
    "#     print(nbindexes)\n",
    "    "
   ]
  },
  {
   "cell_type": "code",
   "execution_count": null,
   "id": "e5ea7aab",
   "metadata": {},
   "outputs": [],
   "source": [
    "# for i in range(70):\n",
    "#     nbindexes =  epsilon_neighborhood(i, epsilon=.0011)\n",
    "#     print( len(nbindexes))\n",
    "    "
   ]
  },
  {
   "cell_type": "code",
   "execution_count": null,
   "id": "ad7c885c",
   "metadata": {},
   "outputs": [],
   "source": [
    "# epsilon = .0011\n",
    "# minPoints = 26\n",
    "# t,f= 0,0\n",
    "# for p in range(100):\n",
    "#     for q in range(100):\n",
    "#         is_ddr, neib = is_directly_density_reachable(p,q, epsilon, minPoints)\n",
    "#         if is_ddr: \n",
    "#             t+=1 \n",
    "#         else: \n",
    "#             f+=1\n",
    "\n",
    "# print(t,f)"
   ]
  },
  {
   "cell_type": "code",
   "execution_count": null,
   "id": "a6eb8960",
   "metadata": {},
   "outputs": [],
   "source": [
    "#retrieva all points density reachable from P\n",
    "\n",
    "# def density_reachable( p, epsilon, minPoints):\n",
    "#     density_reachable = []\n",
    "#     for q in list(points):\n",
    "#         is_ddr, neib = is_directly_density_reachable(p,q, epsilon, minPoints)\n",
    "#         if is_ddr: \n",
    "#             density_reachable.append(neib)\n",
    "#     return density_reachable\n",
    "\n"
   ]
  },
  {
   "cell_type": "code",
   "execution_count": null,
   "id": "1c2360a2",
   "metadata": {},
   "outputs": [],
   "source": [
    "\n",
    "def clustering_DBSCAN_noise(X, epsilon, minPoints):\n",
    "    n_points = len(X)\n",
    "    dm = distance_matrix(X,X)\n",
    "    # identify core points \n",
    "    is_core = np.zeros(n_points).astype(int)\n",
    "    for j in range(n_points):\n",
    "        n_neibs = np.unique(np.where( dm[j] < epsilon )).flatten()\n",
    "        if len(n_neibs) >= minPoints: is_core[j] = 1\n",
    " \n",
    "    \n",
    "    points = np.arange(n_points)\n",
    "    clusters = np.zeros(n_points)\n",
    "\n",
    "    cluster_id = 0\n",
    "    tovisit = np.sum(clusters == 0)\n",
    "    while(tovisit > 0):\n",
    "        is_core_unvisited = ((clusters == 0) & (is_core == 1))\n",
    "        p = np.random.choice(points[ is_core_unvisited ])\n",
    "        # directly density reachable!\n",
    "        nbhood = np.unique(np.where( dm[p] <= epsilon )).flatten()\n",
    "        #check indirect reachability  \n",
    "        \n",
    "        old_nb_len = 0\n",
    "        nb_len = len(nbhood)\n",
    "        while (nb_len>old_nb_len): \n",
    "            for q in nbhood: \n",
    "\n",
    "                indirect = np.unique(np.where( dm[q] <= epsilon )).flatten()\n",
    "                nbhood = np.unique(np.append(nbhood, indirect).flatten())\n",
    "            # add here a condition to keep searching further levels  \n",
    "            old_nb_len = nb_len\n",
    "            nb_len = len(nbhood)\n",
    "  \n",
    "             \n",
    "                \n",
    "        if (len(nbhood) >= minPoints):# is_core:\n",
    "            cluster_id += 1\n",
    "            clusters[p] = int(cluster_id)\n",
    "            for q in nbhood:\n",
    "                    clusters[q] = int(cluster_id)\n",
    "        else: #is halo\n",
    "            clusters[p] = int(-1)\n",
    "\n",
    "        is_core_unvisited = ((clusters == 0) & (is_core == 1))\n",
    "        tovisit = len(points[is_core_unvisited])\n",
    "    \n",
    "    #encode \"halo\" as 0    \n",
    "    clusters[ clusters == -1] = 0\n",
    "    return clusters\n",
    "    "
   ]
  },
  {
   "cell_type": "code",
   "execution_count": null,
   "id": "6d862b16",
   "metadata": {},
   "outputs": [],
   "source": [
    "epsilon = .02\n",
    "minPoints= 20\n",
    "np.random.seed(123)\n",
    "clusters = clustering_DBSCAN_noise(X, epsilon=epsilon, minPoints=minPoints)\n",
    "print((set(clusters)))\n",
    "\n",
    "data['cluster']=clusters.astype(int)\n",
    "data = data[ [ 'cf', 'company', 'lat', 'lon', 'cluster'] ]\n",
    "data.to_csv('./data/FVG_comp_clusters.csv', index=False)\n",
    "\n",
    "plt.figure(figsize=(10,10))\n",
    "\n",
    "for clust in list(set(data.cluster)):\n",
    "    x = np.array(data.lon[ data.cluster == clust ])\n",
    "    y = np.array(data.lat[ data.cluster == clust ])\n",
    "    if clust == 0: \n",
    "        plt.scatter(x, y, s=10, marker = \".\", color = \"yellow\", label=\"halo\")\n",
    "    else:\n",
    "        plt.scatter(x, y, s=20, marker = \"X\", label=f\"Cluster{clust}\")\n",
    "\n",
    "plt.title('DBSCAN - my implementation')\n",
    "plt.xlabel('X')\n",
    "plt.ylabel('Y')"
   ]
  },
  {
   "cell_type": "code",
   "execution_count": null,
   "id": "c172206d",
   "metadata": {},
   "outputs": [],
   "source": [
    "fig, ax = plt.subplots(figsize=(10,10))\n",
    "plot_map(fvg, color_fill = \"lightgray\", alpha = .6, color_border= \"white\" , linewidth = .8)\n",
    "for clust in list(set(data.cluster)):\n",
    "    x = np.array(data.lon[ data.cluster == clust ])\n",
    "    y = np.array(data.lat[ data.cluster == clust ])\n",
    "    if clust == 0: \n",
    "        plt.scatter(x, y, s=10, marker = \".\", color = \"gray\",label=\"halo\", zorder=3)\n",
    "    else:\n",
    "        plt.scatter(x, y, s=20, marker = \"X\",  label=f\"Cluster{clust}\", zorder=4)\n"
   ]
  },
  {
   "cell_type": "code",
   "execution_count": null,
   "id": "0ae7d288",
   "metadata": {},
   "outputs": [],
   "source": [
    "\n",
    "# np.random.seed(999)\n",
    "# clusters = clustering_DBSCAN_noise(X, epsilon=epsilon, minPoints=minPoints)\n",
    "# print((set(clusters)))\n",
    "\n",
    "# data['cluster']=clusters.astype(int)\n",
    "# data = data[ [ 'cf', 'company', 'lat', 'lon', 'cluster'] ]\n",
    "# data.to_csv('./data/FVG_comp_clusters.csv', index=False)\n",
    "\n",
    "# plt.figure(figsize=(10,10))\n",
    "\n",
    "# for clust in list(set(data.cluster)):\n",
    "#     x = np.array(data.lon[ data.cluster == clust ])\n",
    "#     y = np.array(data.lat[ data.cluster == clust ])\n",
    "#     if clust == 0: \n",
    "#         plt.scatter(x, y, s=10, marker = \".\", color = \"yellow\", label=\"halo\")\n",
    "#     else:\n",
    "#         plt.scatter(x, y, s=20, marker = \"X\", label=f\"Cluster{clust}\")\n",
    "\n",
    "\n",
    "# #plt.legend([f\"Cluster {clust}\" for clust in np.unique(cluster)], loc =\"lower right\")\n",
    "# #plt.legend()\n",
    "# plt.title('DBSCAN - my implementation')\n",
    "# plt.xlabel('X')\n",
    "# plt.ylabel('Y')"
   ]
  },
  {
   "cell_type": "code",
   "execution_count": null,
   "id": "038c18df",
   "metadata": {},
   "outputs": [],
   "source": [
    "from sklearn.cluster import DBSCAN\n",
    "epsilon = 2.2\n",
    "minPoints= 20\n",
    "\n",
    "clustering = DBSCAN(eps=epsilon, min_samples=minPoints).fit(X)\n",
    "cc = clustering.labels_\n",
    "plt.figure(figsize=(10,7))\n",
    "for clust in list(set(cc)):\n",
    "    x = np.array(data.lon[ clust == cc ])\n",
    "    y = np.array(data.lat[ clust == cc ])\n",
    "    if clust == -1: \n",
    "        plt.scatter(x, y, s=10, marker = \".\", color = \"yellow\", label=\"halo\")\n",
    "    else:\n",
    "        plt.scatter(x, y, s=20, marker = \"X\", label=f\"Cluster{clust}\")\n",
    "\n",
    "\n",
    "#plt.legend([f\"Cluster {clust}\" for clust in np.unique(cluster)], loc =\"lower right\")\n",
    "#plt.legend()\n",
    "plt.title('DBSCAN - my CLASS implementation')\n",
    "plt.xlabel('X')\n",
    "plt.ylabel('Y')\n",
    "\n",
    "print(len(set(cc)))"
   ]
  },
  {
   "cell_type": "code",
   "execution_count": null,
   "id": "5aa3c413",
   "metadata": {},
   "outputs": [],
   "source": [
    "print(\":-D\")"
   ]
  },
  {
   "cell_type": "markdown",
   "id": "bb2cbe84",
   "metadata": {},
   "source": [
    "Silhouette score\n",
    "eg from here\n",
    "https://gist.github.com/AlexandreAbraham/5544803?msclkid=57d3c2cfb28b11ec853386a9714df71b\n"
   ]
  },
  {
   "cell_type": "markdown",
   "id": "eb40fd7d",
   "metadata": {},
   "source": [
    "calculate comparison (precision, recall) as in this\n",
    "https://towardsdatascience.com/evaluating-clustering-results-f13552ee7603\n"
   ]
  },
  {
   "cell_type": "code",
   "execution_count": null,
   "id": "f770bbe4",
   "metadata": {},
   "outputs": [],
   "source": [
    "from sklearn.metrics.cluster import fowlkes_mallows_score\n",
    "\n",
    "np.random.seed(999)\n",
    "clusters1 = clustering_DBSCAN_noise(X, epsilon=.0015, minPoints=20)\n",
    "plot_clusters(X, clusters1)\n",
    "\n",
    "clusters2 = clustering_DBSCAN_noise(X, epsilon=.0010, minPoints=20)\n",
    "plot_clusters(X, clusters2)\n",
    "\n",
    "clusters3 = clustering_DBSCAN_noise(X, epsilon=.0005, minPoints=20)\n",
    "plot_clusters(X, clusters3)\n",
    "\n",
    "plt.show()\n",
    "fowlkes_mallows_score(clusters2, clusters1)"
   ]
  },
  {
   "cell_type": "markdown",
   "id": "b7f2fea7",
   "metadata": {},
   "source": [
    "https://geodacenter.github.io/workbook/99_density/lab9b.html?msclkid=d7e2bc81b28d11ec92fcd58b49d1b2ba"
   ]
  },
  {
   "cell_type": "markdown",
   "id": "497400ef",
   "metadata": {},
   "source": [
    "Laio / Peak Halo\n",
    "https://people.sissa.it/~laio/Research/Res_clustering.php\n",
    "file:///C:/Users/morea/Downloads/Clustering_by_fast_search_and_find_of_density_peaks.pdf\n",
    "\n",
    "\n",
    "https://github.com/markovmodel/PyEMMA/issues/998?msclkid=96f31b4db28d11ec985ce9b15c28caff\n",
    "\n",
    "Rodriguez, A., & Laio, A. (2014). Clustering by fast search and find of density peaks. Science, 344(6191), 1492-1496. doi:10.1126/science.1242072\n",
    "\n",
    "\n",
    "https://github.com/thomasp85/densityClust\n",
    "\n"
   ]
  },
  {
   "cell_type": "markdown",
   "id": "f182940f",
   "metadata": {},
   "source": [
    "Density Peaks \n",
    "\n",
    "https://github.com/lanbing510/DensityPeakCluster?msclkid=1fd85fbab28f11ec870cbd2dc3baebd7\n"
   ]
  }
 ],
 "metadata": {
  "kernelspec": {
   "display_name": "Python 3",
   "language": "python",
   "name": "python3"
  },
  "language_info": {
   "codemirror_mode": {
    "name": "ipython",
    "version": 3
   },
   "file_extension": ".py",
   "mimetype": "text/x-python",
   "name": "python",
   "nbconvert_exporter": "python",
   "pygments_lexer": "ipython3",
   "version": "3.9.4"
  }
 },
 "nbformat": 4,
 "nbformat_minor": 5
}
