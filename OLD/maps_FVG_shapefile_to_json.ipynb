{
 "cells": [
  {
   "cell_type": "markdown",
   "metadata": {},
   "source": [
    "# Maps in shapefile and JSON format\n",
    "\n",
    "This notebook explores the potential of \"shapefile\" maps based on the \"polygonfile\" library\n",
    "\n",
    "Contents:\n",
    "1. Basic map information loaded from official sources (e.g. Eurostat) in shapefile format. This procedure may load much more data than is actually needed (e.g. a country may be composed by a number of small shapes that are not relevant for the application; we may be interested in a small number of coutntries...)\n",
    "\n",
    "2. A basic code to plot a map controlling border and fill color (from SHAPEFILE)\n",
    "\n",
    "3. Filter the dataset (e.g. only some selected countries) and save in JSON format for further use \n",
    "\n",
    "4. An efficient function to plot a map controlling border and fill color  (from JSON)\n",
    "\n",
    " \n",
    "\n"
   ]
  },
  {
   "cell_type": "code",
   "execution_count": 1,
   "metadata": {},
   "outputs": [],
   "source": [
    "import numpy as np\n",
    "import pandas as pd\n",
    "import matplotlib.pyplot as plt\n"
   ]
  },
  {
   "cell_type": "markdown",
   "metadata": {},
   "source": [
    "# Load data on italian minicipalities and regions"
   ]
  },
  {
   "cell_type": "code",
   "execution_count": 2,
   "metadata": {},
   "outputs": [],
   "source": [
    "df = pd.read_csv('./data/Elenco-comuni-italiani.csv', sep=\";\", dtype='str')\n",
    "cols_to_use = ['Codice Regione', 'Codice Comune formato alfanumerico' ,'Denominazione in italiano']\n",
    "df = df[ cols_to_use ]\n",
    "df.columns = ['cod_regione', 'cod_comune', 'nome_comune']\n",
    "df = df[ df['cod_regione']== '06' ] # regione FVG\n",
    "selected_codes = df.cod_comune.to_list()\n",
    "\n",
    "#df"
   ]
  },
  {
   "cell_type": "code",
   "execution_count": 3,
   "metadata": {},
   "outputs": [
    {
     "data": {
      "text/plain": [
       "<matplotlib.collections.PathCollection at 0x19bbc07ddf0>"
      ]
     },
     "execution_count": 3,
     "metadata": {},
     "output_type": "execute_result"
    },
    {
     "data": {
      "image/png": "[encoded data removed]",
      "text/plain": [
       "<Figure size 432x288 with 1 Axes>"
      ]
     },
     "metadata": {
      "needs_background": "light"
     },
     "output_type": "display_data"
    }
   ],
   "source": [
    "    points = pd.read_csv('./data/comuni_lat_long.csv', sep=\";\")\n",
    "    x = points.lng\n",
    "    y = points.lat\n",
    "    plt.scatter(x=x, y=y,s=2, c=\"black\", marker=\".\")\n",
    "     "
   ]
  },
  {
   "cell_type": "code",
   "execution_count": 4,
   "metadata": {},
   "outputs": [
    {
     "name": "stdout",
     "output_type": "stream",
     "text": [
      "11.787312089999999\n"
     ]
    },
    {
     "data": {
      "text/plain": [
       "array([[ 7.7686    , 45.36343304],\n",
       "       [ 7.48443104, 44.91688598],\n",
       "       [ 7.30434392, 45.31511014],\n",
       "       [ 7.94914491, 45.43389336],\n",
       "       [ 7.77701858, 45.4600936 ],\n",
       "       [ 7.39518194, 45.11766321],\n",
       "       [ 7.57859732, 45.40998223],\n",
       "       [ 7.52426733, 45.09446973],\n",
       "       [ 7.86994864, 45.03586095],\n",
       "       [ 7.87383937, 45.52837479]])"
      ]
     },
     "execution_count": 4,
     "metadata": {},
     "output_type": "execute_result"
    }
   ],
   "source": [
    "nbins=10\n",
    "radius= (x.max()-x.min())\n",
    "print(radius)\n",
    "points = np.array(list(zip(x,y)))\n",
    "points = points[:10]\n",
    "points"
   ]
  },
  {
   "cell_type": "code",
   "execution_count": 5,
   "metadata": {},
   "outputs": [
    {
     "ename": "IndexError",
     "evalue": "arrays used as indices must be of integer (or boolean) type",
     "output_type": "error",
     "traceback": [
      "\u001b[1;31m---------------------------------------------------------------------------\u001b[0m",
      "\u001b[1;31mIndexError\u001b[0m                                Traceback (most recent call last)",
      "\u001b[1;32m<ipython-input-5-fe0402c92d47>\u001b[0m in \u001b[0;36m<module>\u001b[1;34m\u001b[0m\n\u001b[0;32m      7\u001b[0m \u001b[0midx\u001b[0m\u001b[1;33m\u001b[0m\u001b[1;33m\u001b[0m\u001b[0m\n\u001b[0;32m      8\u001b[0m  \u001b[1;31m# This gives the point in the KDTree which is within radius\u001b[0m\u001b[1;33m\u001b[0m\u001b[1;33m\u001b[0m\u001b[1;33m\u001b[0m\u001b[0m\n\u001b[1;32m----> 9\u001b[1;33m \u001b[0mpoints\u001b[0m\u001b[1;33m=\u001b[0m \u001b[0mpoint_tree\u001b[0m\u001b[1;33m.\u001b[0m\u001b[0mdata\u001b[0m\u001b[1;33m[\u001b[0m\u001b[0mpoint_tree\u001b[0m\u001b[1;33m.\u001b[0m\u001b[0mquery_ball_point\u001b[0m\u001b[1;33m(\u001b[0m\u001b[0mpoints\u001b[0m\u001b[1;33m,\u001b[0m \u001b[0mradius\u001b[0m\u001b[1;33m)\u001b[0m\u001b[1;33m]\u001b[0m\u001b[1;33m\u001b[0m\u001b[1;33m\u001b[0m\u001b[0m\n\u001b[0m\u001b[0;32m     10\u001b[0m \u001b[1;33m\u001b[0m\u001b[0m\n\u001b[0;32m     11\u001b[0m \u001b[1;33m\u001b[0m\u001b[0m\n",
      "\u001b[1;31mIndexError\u001b[0m: arrays used as indices must be of integer (or boolean) type"
     ]
    }
   ],
   "source": [
    "import scipy.spatial as spatial\n",
    "\n",
    "point_tree = spatial.cKDTree(points)\n",
    "# This finds the index of all points within  radius\n",
    "radius=100\n",
    "idx=point_tree.query_ball_point(points, radius)\n",
    "idx\n",
    " # This gives the point in the KDTree which is within radius \n",
    "points= point_tree.data[point_tree.query_ball_point(points, radius)]\n",
    "\n",
    " "
   ]
  },
  {
   "cell_type": "code",
   "execution_count": null,
   "metadata": {},
   "outputs": [],
   "source": [
    "\n",
    "xi, yi = np.mgrid[x.min():x.max():nbins*1j, y.min():y.max():nbins*1j]\n",
    "xi, yi = np.mgrid[x.min():x.max():nbins, y.min():y.max():nbins]\n",
    "for i in range(nbins):\n",
    "    for j in range(nbins):\n",
    "        pass#print(xi[i], yi[i])\n",
    "\n",
    "#zi = (np.vstack([x,y]))\n",
    "#data_to_plot = zi.reshape(xi.shape)\n"
   ]
  },
  {
   "cell_type": "code",
   "execution_count": null,
   "metadata": {},
   "outputs": [],
   "source": [
    "fig, axes = plt.subplots(ncols=1, nrows=1, figsize=(8, 8))\n",
    "axes.pcolormesh(x, y, data_to_plot,  cmap=\"RdYlBu\")#, vmin=0.005, vmax=10)\n",
    "axes.set_title('2D Density with shading + threshold + scatter' )\n",
    "axes.scatter(x, y, s=5, color=\"black\")"
   ]
  },
  {
   "cell_type": "markdown",
   "metadata": {},
   "source": [
    "# load data from shapefile .shp"
   ]
  },
  {
   "cell_type": "code",
   "execution_count": null,
   "metadata": {},
   "outputs": [],
   "source": [
    "import shapefile as shp\n",
    "\n",
    "#local path:  maps\\ITA\\Com01012022\\Com01012022_WGS84.shp\n",
    "shp_path = r\"./maps/ITA/Com01012022/Com01012022_WGS84.shp\"\n",
    "sf = shp.Reader(shp_path)\n",
    "shapeRecs = sf.shapeRecords()\n",
    "n_shapes = len(shapeRecs)\n",
    "print(\"Number of shapes loades: \",n_shapes)\n"
   ]
  },
  {
   "cell_type": "code",
   "execution_count": null,
   "metadata": {},
   "outputs": [],
   "source": [
    "\n",
    " "
   ]
  },
  {
   "cell_type": "code",
   "execution_count": null,
   "metadata": {},
   "outputs": [],
   "source": [
    "data_to_plot = pd.DataFrame(columns = ['code', 'name', 'xc','yc','polygon'])\n",
    "\n",
    "for sh_id in range(n_shapes):\n",
    "        code = shapeRecs[sh_id].record[6]\n",
    "        \n",
    "        if code in selected_codes:\n",
    "\n",
    "                new_row = {     'code':  code, \n",
    "                                'name': shapeRecs[sh_id].record[7],\n",
    "                                'xc':   shapeRecs[sh_id].record[10],\n",
    "                                'yc':   shapeRecs[sh_id].record[11],\n",
    "                                'polygon': sf.shape(sh_id).points[:]}\n",
    "                        \n",
    "                data_to_plot = data_to_plot.append(new_row, ignore_index = True)\n",
    "\n",
    "     \n",
    "data_to_plot"
   ]
  },
  {
   "cell_type": "code",
   "execution_count": null,
   "metadata": {},
   "outputs": [],
   "source": [
    "for index, row in data_to_plot.iterrows():\n",
    "    coords = list(zip(*row.polygon))\n",
    "    \n",
    "    plt.plot(coords[0],coords[1], c=\"white\")\n",
    "    plt.fill(coords[0],coords[1], c=\"gray\", alpha=1)\n",
    "\n",
    "\n",
    "plt.show()\n"
   ]
  },
  {
   "cell_type": "code",
   "execution_count": null,
   "metadata": {},
   "outputs": [],
   "source": [
    "\n",
    "from pyproj import Transformer\n",
    "transformer = Transformer.from_crs(\"epsg:3857\",\"epsg:4326\")\n",
    "\n",
    "fix,ax = plt.subplots(figsize=(20,20))\n",
    "for index, row in data_to_plot.iterrows():\n",
    "    coords = list(zip(*row.polygon))\n",
    "    y = np.array(coords[0])\n",
    "    y = (y +500000)/0.9996\n",
    "    x = np.array(coords[1])\n",
    "    x=x/0.9996\n",
    "    lon, lat = transformer.transform(x, y)\n",
    "    plt.plot(lon,lat, c=\"white\",linewidth=0.5)\n",
    "    plt.fill(lon,lat, c=\"gray\", alpha=1)\n",
    "    \n",
    "\n",
    " "
   ]
  }
 ],
 "metadata": {
  "interpreter": {
   "hash": "916dbcbb3f70747c44a77c7bcd40155683ae19c65e1c03b4aa3499c5328201f1"
  },
  "kernelspec": {
   "display_name": "Python 3.8.10 64-bit",
   "language": "python",
   "name": "python3"
  },
  "language_info": {
   "codemirror_mode": {
    "name": "ipython",
    "version": 3
   },
   "file_extension": ".py",
   "mimetype": "text/x-python",
   "name": "python",
   "nbconvert_exporter": "python",
   "pygments_lexer": "ipython3",
   "version": "3.9.4"
  },
  "orig_nbformat": 4
 },
 "nbformat": 4,
 "nbformat_minor": 2
}
