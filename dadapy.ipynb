{
 "cells": [
  {
   "cell_type": "markdown",
   "metadata": {},
   "source": [
    "# sissa-data-science/DADApy\n",
    "https://githubplus.com/sissa-data-science/DULY?msclkid=111cb596b4f011eca216b6924119b001\n",
    "\n",
    "pip install dadapy\n",
    "https://pypi.org/project/dadapy/\n",
    "\n",
    "docs\n",
    "https://dadapy.readthedocs.io/_/downloads/en/latest/pdf/?msclkid=111ce277b4f011eca629e1dc41652d87\n",
    "\n"
   ]
  },
  {
   "cell_type": "markdown",
   "metadata": {},
   "source": [
    "building 'dadapy.cython_.cython_clustering' extension\n",
    "      error: Microsoft Visual C++ 14.0 is required. Get it with \"Build Tools for Visual Studio\": https://visualstudio.microsoft.com/downloads/\n",
    "      [end of output]"
   ]
  },
  {
   "cell_type": "code",
   "execution_count": 1,
   "metadata": {},
   "outputs": [
    {
     "name": "stdout",
     "output_type": "stream",
     "text": [
      "Collecting dadapy\n",
      "  Using cached dadapy-0.0.0.tar.gz (385 kB)\n",
      "  Preparing metadata (setup.py): started\n",
      "  Preparing metadata (setup.py): finished with status 'done'\n",
      "Requirement already satisfied: numpy in c:\\users\\morea\\appdata\\local\\programs\\python\\python39\\lib\\site-packages (from dadapy) (1.22.3)\n",
      "Requirement already satisfied: scipy in c:\\users\\morea\\appdata\\local\\programs\\python\\python39\\lib\\site-packages (from dadapy) (1.6.3)\n",
      "Requirement already satisfied: scikit-learn in c:\\users\\morea\\appdata\\local\\programs\\python\\python39\\lib\\site-packages (from dadapy) (1.0.1)\n",
      "Requirement already satisfied: Cython in c:\\users\\morea\\appdata\\local\\programs\\python\\python39\\lib\\site-packages (from dadapy) (0.29.28)\n",
      "Requirement already satisfied: pytest in c:\\users\\morea\\appdata\\local\\programs\\python\\python39\\lib\\site-packages (from dadapy) (6.2.3)\n",
      "Requirement already satisfied: packaging in c:\\users\\morea\\appdata\\local\\programs\\python\\python39\\lib\\site-packages (from pytest->dadapy) (20.9)\n",
      "Requirement already satisfied: toml in c:\\users\\morea\\appdata\\roaming\\python\\python39\\site-packages (from pytest->dadapy) (0.10.2)\n",
      "Requirement already satisfied: attrs>=19.2.0 in c:\\users\\morea\\appdata\\local\\programs\\python\\python39\\lib\\site-packages (from pytest->dadapy) (20.3.0)\n",
      "Note: you may need to restart the kernel to use updated packages.\n"
     ]
    },
    {
     "name": "stderr",
     "output_type": "stream",
     "text": [
      "  error: subprocess-exited-with-error\n",
      "  \n",
      "  × python setup.py bdist_wheel did not run successfully.\n",
      "  │ exit code: 1\n",
      "  ╰─> [26 lines of output]\n",
      "      running bdist_wheel\n",
      "      running build\n",
      "      running build_py\n",
      "      creating build\n",
      "      creating build\\lib.win-amd64-3.9"
     ]
    },
    {
     "name": "stdout",
     "output_type": "stream",
     "text": [
      "Requirement already satisfied: iniconfig in c:\\users\\morea\\appdata\\local\\programs\\python\\python39\\lib\\site-packages (from pytest->dadapy) (1.1.1)\n",
      "Requirement already satisfied: atomicwrites>=1.0 in c:\\users\\morea\\appdata\\local\\programs\\python\\python39\\lib\\site-packages (from pytest->dadapy) (1.4.0)\n",
      "Requirement already satisfied: pluggy<1.0.0a1,>=0.12 in c:\\users\\morea\\appdata\\local\\programs\\python\\python39\\lib\\site-packages (from pytest->dadapy) (0.13.1)\n",
      "Requirement already satisfied: colorama in c:\\users\\morea\\appdata\\roaming\\python\\python39\\site-packages (from pytest->dadapy) (0.4.4)\n",
      "Requirement already satisfied: py>=1.8.2 in c:\\users\\morea\\appdata\\local\\programs\\python\\python39\\lib\\site-packages (from pytest->dadapy) (1.10.0)\n",
      "Requirement already satisfied: joblib>=0.11 in c:\\users\\morea\\appdata\\local\\programs\\python\\python39\\lib\\site-packages (from scikit-learn->dadapy) (1.0.1)\n",
      "Requirement already satisfied: threadpoolctl>=2.0.0 in c:\\users\\morea\\appdata\\local\\programs\\python\\python39\\lib\\site-packages (from scikit-learn->dadapy) (2.1.0)\n",
      "Requirement already satisfied: pyparsing>=2.0.2 in c:\\users\\morea\\appdata\\local\\programs\\python\\python39\\lib\\site-packages (from packaging->pytest->dadapy) (2.4.7)\n",
      "Building wheels for collected packages: dadapy\n",
      "  Building wheel for dadapy (setup.py): started\n",
      "  Building wheel for dadapy (setup.py): finished with status 'error'\n",
      "  Running setup.py clean for dadapy\n",
      "Failed to build dadapy\n",
      "Installing collected packages: dadapy\n",
      "  Running setup.py install for dadapy: started\n",
      "  Running setup.py install for dadapy: finished with status 'error'\n"
     ]
    },
    {
     "name": "stderr",
     "output_type": "stream",
     "text": [
      "\n",
      "      creating build\\lib.win-amd64-3.9\\dadapy\n",
      "      copying dadapy\\clustering.py -> build\\lib.win-amd64-3.9\\dadapy\n",
      "      copying dadapy\\data.py -> build\\lib.win-amd64-3.9\\dadapy\n",
      "      copying dadapy\\data_sets.py -> build\\lib.win-amd64-3.9\\dadapy\n",
      "      copying dadapy\\density_estimation.py -> build\\lib.win-amd64-3.9\\dadapy\n",
      "      copying dadapy\\id_discrete.py -> build\\lib.win-amd64-3.9\\dadapy\n",
      "      copying dadapy\\id_estimation.py -> build\\lib.win-amd64-3.9\\dadapy\n",
      "      copying dadapy\\metric_comparisons.py -> build\\lib.win-amd64-3.9\\dadapy\n",
      "      copying dadapy\\plot.py -> build\\lib.win-amd64-3.9\\dadapy\n",
      "      copying dadapy\\_base.py -> build\\lib.win-amd64-3.9\\dadapy\n",
      "      copying dadapy\\__init__.py -> build\\lib.win-amd64-3.9\\dadapy\n",
      "      creating build\\lib.win-amd64-3.9\\dadapy\\utils_\n",
      "      copying dadapy\\utils_\\density_estimation.py -> build\\lib.win-amd64-3.9\\dadapy\\utils_\n",
      "      copying dadapy\\utils_\\discrete_functions.py -> build\\lib.win-amd64-3.9\\dadapy\\utils_\n",
      "      copying dadapy\\utils_\\mlmax.py -> build\\lib.win-amd64-3.9\\dadapy\\utils_\n",
      "      copying dadapy\\utils_\\mlmax_pytorch.py -> build\\lib.win-amd64-3.9\\dadapy\\utils_\n",
      "      copying dadapy\\utils_\\utils.py -> build\\lib.win-amd64-3.9\\dadapy\\utils_\n",
      "      copying dadapy\\utils_\\__init__.py -> build\\lib.win-amd64-3.9\\dadapy\\utils_\n",
      "      running build_ext\n",
      "      building 'dadapy.cython_.cython_clustering' extension\n",
      "      error: Microsoft Visual C++ 14.0 is required. Get it with \"Build Tools for Visual Studio\": https://visualstudio.microsoft.com/downloads/\n",
      "      [end of output]\n",
      "  \n",
      "  note: This error originates from a subprocess, and is likely not a problem with pip.\n",
      "  ERROR: Failed building wheel for dadapy\n",
      "  error: subprocess-exited-with-error\n",
      "  \n",
      "  × Running setup.py install for dadapy did not run successfully.\n",
      "  │ exit code: 1\n",
      "  ╰─> [26 lines of output]\n",
      "      running install\n",
      "      running build\n",
      "      running build_py\n",
      "      creating build\n",
      "      creating build\\lib.win-amd64-3.9\n",
      "      creating build\\lib.win-amd64-3.9\\dadapy\n",
      "      copying dadapy\\clustering.py -> build\\lib.win-amd64-3.9\\dadapy\n",
      "      copying dadapy\\data.py -> build\\lib.win-amd64-3.9\\dadapy\n",
      "      copying dadapy\\data_sets.py -> build\\lib.win-amd64-3.9\\dadapy\n",
      "      copying dadapy\\density_estimation.py -> build\\lib.win-amd64-3.9\\dadapy\n",
      "      copying dadapy\\id_discrete.py -> build\\lib.win-amd64-3.9\\dadapy\n",
      "      copying dadapy\\id_estimation.py -> build\\lib.win-amd64-3.9\\dadapy\n",
      "      copying dadapy\\metric_comparisons.py -> build\\lib.win-amd64-3.9\\dadapy\n",
      "      copying dadapy\\plot.py -> build\\lib.win-amd64-3.9\\dadapy\n",
      "      copying dadapy\\_base.py -> build\\lib.win-amd64-3.9\\dadapy\n",
      "      copying dadapy\\__init__.py -> build\\lib.win-amd64-3.9\\dadapy\n",
      "      creating build\\lib.win-amd64-3.9\\dadapy\\utils_\n",
      "      copying dadapy\\utils_\\density_estimation.py -> build\\lib.win-amd64-3.9\\dadapy\\utils_\n",
      "      copying dadapy\\utils_\\discrete_functions.py -> build\\lib.win-amd64-3.9\\dadapy\\utils_\n",
      "      copying dadapy\\utils_\\mlmax.py -> build\\lib.win-amd64-3.9\\dadapy\\utils_\n",
      "      copying dadapy\\utils_\\mlmax_pytorch.py -> build\\lib.win-amd64-3.9\\dadapy\\utils_\n",
      "      copying dadapy\\utils_\\utils.py -> build\\lib.win-amd64-3.9\\dadapy\\utils_\n",
      "      copying dadapy\\utils_\\__init__.py -> build\\lib.win-amd64-3.9\\dadapy\\utils_\n",
      "      running build_ext\n",
      "      building 'dadapy.cython_.cython_clustering' extension\n",
      "      error: Microsoft Visual C++ 14.0 is required. Get it with \"Build Tools for Visual Studio\": https://visualstudio.microsoft.com/downloads/\n",
      "      [end of output]\n",
      "  \n",
      "  note: This error originates from a subprocess, and is likely not a problem with pip.\n",
      "error: legacy-install-failure\n",
      "\n",
      "× Encountered error while trying to install package.\n",
      "╰─> dadapy\n",
      "\n",
      "note: This is an issue with the package mentioned above, not pip.\n",
      "hint: See above for output from the failure.\n"
     ]
    }
   ],
   "source": [
    "pip install dadapy"
   ]
  },
  {
   "cell_type": "code",
   "execution_count": 2,
   "metadata": {},
   "outputs": [
    {
     "ename": "ModuleNotFoundError",
     "evalue": "No module named 'dadapy'",
     "output_type": "error",
     "traceback": [
      "\u001b[1;31m---------------------------------------------------------------------------\u001b[0m",
      "\u001b[1;31mModuleNotFoundError\u001b[0m                       Traceback (most recent call last)",
      "\u001b[1;32m<ipython-input-2-c66ed43ade12>\u001b[0m in \u001b[0;36m<module>\u001b[1;34m\u001b[0m\n\u001b[0;32m      1\u001b[0m \u001b[1;32mimport\u001b[0m \u001b[0mnumpy\u001b[0m \u001b[1;32mas\u001b[0m \u001b[0mnp\u001b[0m\u001b[1;33m\u001b[0m\u001b[1;33m\u001b[0m\u001b[0m\n\u001b[1;32m----> 2\u001b[1;33m \u001b[1;32mfrom\u001b[0m \u001b[0mdadapy\u001b[0m\u001b[1;33m.\u001b[0m\u001b[0mdata\u001b[0m \u001b[1;32mimport\u001b[0m \u001b[0mData\u001b[0m\u001b[1;33m\u001b[0m\u001b[1;33m\u001b[0m\u001b[0m\n\u001b[0m",
      "\u001b[1;31mModuleNotFoundError\u001b[0m: No module named 'dadapy'"
     ]
    }
   ],
   "source": [
    "import numpy as np\n",
    "from dadapy.data import Data\n"
   ]
  },
  {
   "cell_type": "code",
   "execution_count": null,
   "metadata": {},
   "outputs": [],
   "source": [
    "\n",
    "# a simple 3D gaussian dataset\n",
    "X = np.random.normal(0, 1, (1000, 3))\n",
    "\n",
    "# initialise the \"Data\" class with a\n",
    "# set of coordinates\n",
    "data = Data(X)\n",
    "\n",
    "# compute distances up to the 100th\n",
    "# nearest neighbour\n",
    "data.compute_distances(maxk = 100)\n",
    "\n",
    "# compute the intrinsic dimension\n",
    "data.compute_id_2NN()\n",
    "\n",
    "# compute the density of all points using a basic kNN estimator\n",
    "data.compute_density_kNN(k = 15)\n",
    "\n",
    "# or using a more advanced PAk estimator\n",
    "data.compute_density_PAk()\n",
    "\n",
    "# find the peaks of the density profile\n",
    "data.compute_clustering()"
   ]
  }
 ],
 "metadata": {
  "interpreter": {
   "hash": "46c56b00a886f01d69e776668ca12acc0de9f7c8f388e5060811cd7865d8f9b3"
  },
  "kernelspec": {
   "display_name": "Python 3.9.4 64-bit",
   "language": "python",
   "name": "python3"
  },
  "language_info": {
   "codemirror_mode": {
    "name": "ipython",
    "version": 3
   },
   "file_extension": ".py",
   "mimetype": "text/x-python",
   "name": "python",
   "nbconvert_exporter": "python",
   "pygments_lexer": "ipython3",
   "version": "3.9.4"
  },
  "orig_nbformat": 4
 },
 "nbformat": 4,
 "nbformat_minor": 2
}
